{
 "cells": [
  {
   "cell_type": "code",
   "execution_count": 1,
   "id": "885db98e",
   "metadata": {},
   "outputs": [],
   "source": [
    "import pandas as pd\n",
    "import os\n",
    "import json\n",
    "import requests\n",
    "\n",
    "DATADIR = \"../dataset\"\n"
   ]
  },
  {
   "cell_type": "code",
   "execution_count": 9,
   "id": "6adfc191",
   "metadata": {},
   "outputs": [],
   "source": [
    "wiki, pbdb = pd.read_csv(os.path.join(DATADIR, \"wikidata\",\"processed\",\"full_data.csv\"), index_col = \"id\"), \\\n",
    "pd.read_csv(os.path.join(DATADIR, \"pbdb\",\"data.csv\"))"
   ]
  },
  {
   "cell_type": "code",
   "execution_count": 258,
   "id": "cf1018b6",
   "metadata": {},
   "outputs": [],
   "source": [
    "all_ranks = wiki[wiki[\"taxon_rank\"].notna()][\"taxon_rank\"].unique().tolist()"
   ]
  },
  {
   "cell_type": "code",
   "execution_count": 257,
   "id": "2c4e0f1f",
   "metadata": {
    "scrolled": true
   },
   "outputs": [],
   "source": [
    "all_taxon_names = set(wiki[wiki[\"taxon_name\"].notna()][\"taxon_name\"].unique())"
   ]
  },
  {
   "cell_type": "code",
   "execution_count": 259,
   "id": "d3aa3a5f",
   "metadata": {},
   "outputs": [],
   "source": [
    "accepted_names, phylums, classes, orders, families, genuses = \\\n",
    "pbdb[\"accepted_name\"].unique().tolist(), \\\n",
    "pbdb[\"phylum\"].unique().tolist(), \\\n",
    "pbdb[\"class\"].unique().tolist(), \\\n",
    "pbdb[\"order\"].unique().tolist(), \\\n",
    "pbdb[\"family\"].unique().tolist(), \\\n",
    "pbdb[\"genus\"].unique().tolist()\n"
   ]
  },
  {
   "cell_type": "code",
   "execution_count": 196,
   "id": "22fd5ca1",
   "metadata": {},
   "outputs": [
    {
     "data": {
      "text/plain": [
       "array(['genus', 'species', 'phylum', 'family', 'subclass', 'kingdom',\n",
       "       'class', 'order', 'subgenus', 'superphylum', 'unranked clade',\n",
       "       'subphylum', 'subfamily', 'tribe', 'subkingdom', 'superfamily',\n",
       "       'superorder', 'subspecies', 'suborder', 'superclass', 'infraclass',\n",
       "       'infraorder', 'subtribe', 'informal'], dtype=object)"
      ]
     },
     "execution_count": 196,
     "metadata": {},
     "output_type": "execute_result"
    }
   ],
   "source": [
    "pbdb[\"accepted_rank\"].unique()"
   ]
  },
  {
   "cell_type": "code",
   "execution_count": 264,
   "id": "2ac0c699",
   "metadata": {},
   "outputs": [
    {
     "name": "stdout",
     "output_type": "stream",
     "text": [
      "accepted names: missing:  132707 , all:  180470\n",
      "phylums: missing:  16 , all:  61\n",
      "classes: missing:  31 , all:  166\n",
      "orders: missing:  183 , all:  1148\n",
      "families: missing:  1271 , all:  8575\n",
      "genuses: missing:  34576 , all:  63780\n"
     ]
    }
   ],
   "source": [
    "missing_accepted_names, missing_phylums, missing_classes, missing_orders, missing_families, missing_genuses = \\\n",
    "[name for name in accepted_names if name not in all_taxon_names], \\\n",
    "[name for name in phylums if name not in all_taxon_names], \\\n",
    "[name for name in classes if name not in all_taxon_names], \\\n",
    "[name for name in orders if name not in all_taxon_names], \\\n",
    "[name for name in families if name not in all_taxon_names], \\\n",
    "[name for name in genuses if name not in all_taxon_names]\n",
    "\n",
    "print(\"accepted names: missing: \", len(missing_accepted_names), \", all: \",len(accepted_names))\n",
    "print(\"phylums: missing: \", len(missing_phylums), \", all: \",len(phylums))\n",
    "print(\"classes: missing: \", len(missing_classes), \", all: \",len(classes))\n",
    "print(\"orders: missing: \", len(missing_orders), \", all: \",len(orders))\n",
    "print(\"families: missing: \", len(missing_families), \", all: \",len(families))\n",
    "print(\"genuses: missing: \", len(missing_genuses), \", all: \",len(genuses))"
   ]
  },
  {
   "cell_type": "code",
   "execution_count": 337,
   "id": "a837c550",
   "metadata": {},
   "outputs": [],
   "source": [
    "pbdb_no_match = pbdb[(~pbdb[\"accepted_name\"].isin(all_taxon_names)) & (~pbdb[\"phylum\"].isin(all_taxon_names)) & (~pbdb[\"class\"].isin(all_taxon_names)) & (~pbdb[\"order\"].isin(all_taxon_names)) & (~pbdb[\"family\"].isin(all_taxon_names)) & (~pbdb[\"genus\"].isin(all_taxon_names))]"
   ]
  },
  {
   "cell_type": "code",
   "execution_count": 409,
   "id": "0770a95b",
   "metadata": {},
   "outputs": [
    {
     "data": {
      "text/plain": [
       "(7127, 18)"
      ]
     },
     "execution_count": 409,
     "metadata": {},
     "output_type": "execute_result"
    }
   ],
   "source": [
    "pbdb_no_match.shape"
   ]
  },
  {
   "cell_type": "code",
   "execution_count": 369,
   "id": "db1521cf",
   "metadata": {},
   "outputs": [],
   "source": [
    "no_match_accepted_names, no_match_phylums, no_match_classes, no_match_orders, no_match_families, no_match_genuses = \\\n",
    "[i for i in pbdb_no_match[\"accepted_name\"].unique().tolist() if str(i) != \"nan\"], \\\n",
    "[i for i in pbdb_no_match[\"phylum\"].unique().tolist() if str(i) != \"nan\"], \\\n",
    "[i for i in pbdb_no_match[\"class\"].unique().tolist() if str(i) != \"nan\"], \\\n",
    "[i for i in pbdb_no_match[\"order\"].unique().tolist() if str(i) != \"nan\"], \\\n",
    "[i for i in pbdb_no_match[\"family\"].unique().tolist() if str(i) != \"nan\"], \\\n",
    "[i for i in pbdb_no_match[\"genus\"].unique().tolist() if str(i) != \"nan\"]"
   ]
  },
  {
   "cell_type": "code",
   "execution_count": 388,
   "id": "0db3d3dc",
   "metadata": {},
   "outputs": [],
   "source": [
    "no_match_accpeted_names_split = set()\n",
    "for name_list in [name.split() for name in no_match_accepted_names]:\n",
    "    for a_name in name_list:\n",
    "        no_match_accpeted_names_split.add(a_name)\n",
    "no_match_accpeted_names_split = list(no_match_accpeted_names_split)        "
   ]
  },
  {
   "cell_type": "code",
   "execution_count": 389,
   "id": "06420b6e",
   "metadata": {},
   "outputs": [],
   "source": [
    "all_no_match_names = set(no_match_accpeted_names_split + no_match_phylums + no_match_classes + no_match_orders + no_match_families + no_match_genuses)"
   ]
  },
  {
   "cell_type": "code",
   "execution_count": 315,
   "id": "f56a5008",
   "metadata": {},
   "outputs": [
    {
     "data": {
      "text/plain": [
       "array(['species', 'genus', 'kingdom', 'phylum', 'unranked clade',\n",
       "       'subgenus', 'subkingdom', 'class', 'family'], dtype=object)"
      ]
     },
     "execution_count": 315,
     "metadata": {},
     "output_type": "execute_result"
    }
   ],
   "source": [
    "pbdb_no_match[\"accepted_rank\"]"
   ]
  },
  {
   "cell_type": "code",
   "execution_count": 393,
   "id": "db700b43",
   "metadata": {},
   "outputs": [],
   "source": [
    "def query_data(my_query): \n",
    "    return requests.get(f\"https://www.wikidata.org/w/api.php?action=wbsearchentities&search={my_query}&language=en&format=json\").json()[\"search\"]\n"
   ]
  },
  {
   "cell_type": "code",
   "execution_count": null,
   "id": "83567c5e",
   "metadata": {},
   "outputs": [],
   "source": [
    "cache = dict()\n",
    "if os.path.isfile(\"../dataset/wikidata/processed/cache_for_pbdb_names.json\"):\n",
    "        with open(\"../dataset/wikidata/processed/cache_for_pbdb_names.json\", \"r\") as f:\n",
    "            cache = json.load(f)\n",
    "\n",
    "search_result = dict()\n",
    "for query in all_no_match_names:\n",
    "    if query not in cache:\n",
    "        query_result = query_data(query)\n",
    "        cache[query] = query_result\n",
    "        with open(\"../dataset/wikidata/processed/cache_for_pbdb_names.json\", \"w\") as f:\n",
    "            json.dump(cache, f)\n",
    "        \n",
    "    else:\n",
    "        query_result = cache[query]\n",
    "    \n",
    "    search_result[query] = query_result"
   ]
  },
  {
   "cell_type": "code",
   "execution_count": 463,
   "id": "4052d95b",
   "metadata": {},
   "outputs": [],
   "source": [
    "effective_names = [name for name in search_result if search_result[name] != []]\n",
    "all_pbdb_ranks = pbdb[\"accepted_rank\"].unique().tolist()\n",
    "for name in effective_names:\n",
    "    results = search_result[name]\n",
    "    meaningful_results = []\n",
    "    for result in results:\n",
    "        try:\n",
    "            if any(rank in result[\"description\"] for rank in all_pbdb_ranks):\n",
    "                meaningful_results.append(result)\n",
    "        except KeyError:\n",
    "            continue\n",
    "    search_result[name] = meaningful_results"
   ]
  },
  {
   "cell_type": "code",
   "execution_count": 460,
   "id": "c16a9bff",
   "metadata": {},
   "outputs": [],
   "source": [
    "name_id_dict = {name:search_result[name][0][\"id\"] for name in search_result if len(search_result[name]) == 1} "
   ]
  },
  {
   "cell_type": "code",
   "execution_count": 471,
   "id": "10a67c55",
   "metadata": {},
   "outputs": [
    {
     "data": {
      "text/html": [
       "<div>\n",
       "<style scoped>\n",
       "    .dataframe tbody tr th:only-of-type {\n",
       "        vertical-align: middle;\n",
       "    }\n",
       "\n",
       "    .dataframe tbody tr th {\n",
       "        vertical-align: top;\n",
       "    }\n",
       "\n",
       "    .dataframe thead th {\n",
       "        text-align: right;\n",
       "    }\n",
       "</style>\n",
       "<table border=\"1\" class=\"dataframe\">\n",
       "  <thead>\n",
       "    <tr style=\"text-align: right;\">\n",
       "      <th></th>\n",
       "      <th>occurrence_no</th>\n",
       "      <th>identified_name</th>\n",
       "      <th>accepted_name</th>\n",
       "      <th>identified_rank</th>\n",
       "      <th>accepted_rank</th>\n",
       "      <th>phylum</th>\n",
       "      <th>class</th>\n",
       "      <th>order</th>\n",
       "      <th>family</th>\n",
       "      <th>genus</th>\n",
       "      <th>max_ma</th>\n",
       "      <th>min_ma</th>\n",
       "      <th>lng</th>\n",
       "      <th>lat</th>\n",
       "      <th>paleomodel</th>\n",
       "      <th>paleolng</th>\n",
       "      <th>paleolat</th>\n",
       "      <th>geoplate</th>\n",
       "    </tr>\n",
       "  </thead>\n",
       "  <tbody>\n",
       "    <tr>\n",
       "      <th>0</th>\n",
       "      <td>3285</td>\n",
       "      <td>Tetradium cellulosum</td>\n",
       "      <td>Tetradium</td>\n",
       "      <td>species</td>\n",
       "      <td>genus</td>\n",
       "      <td>Rhodophyta</td>\n",
       "      <td>NaN</td>\n",
       "      <td>NaN</td>\n",
       "      <td>NaN</td>\n",
       "      <td>Tetradium</td>\n",
       "      <td>460.9</td>\n",
       "      <td>449.5</td>\n",
       "      <td>-75.456108</td>\n",
       "      <td>43.212776</td>\n",
       "      <td>gp_mid</td>\n",
       "      <td>-105.36</td>\n",
       "      <td>-17.34</td>\n",
       "      <td>101</td>\n",
       "    </tr>\n",
       "    <tr>\n",
       "      <th>1</th>\n",
       "      <td>3679</td>\n",
       "      <td>Tetradium sp.</td>\n",
       "      <td>Tetradium</td>\n",
       "      <td>genus</td>\n",
       "      <td>genus</td>\n",
       "      <td>Rhodophyta</td>\n",
       "      <td>NaN</td>\n",
       "      <td>NaN</td>\n",
       "      <td>NaN</td>\n",
       "      <td>Tetradium</td>\n",
       "      <td>470.0</td>\n",
       "      <td>458.4</td>\n",
       "      <td>-75.456108</td>\n",
       "      <td>43.212776</td>\n",
       "      <td>gp_mid</td>\n",
       "      <td>-101.77</td>\n",
       "      <td>-8.16</td>\n",
       "      <td>101</td>\n",
       "    </tr>\n",
       "    <tr>\n",
       "      <th>2</th>\n",
       "      <td>4409</td>\n",
       "      <td>Tetradium sp.</td>\n",
       "      <td>Tetradium</td>\n",
       "      <td>genus</td>\n",
       "      <td>genus</td>\n",
       "      <td>Rhodophyta</td>\n",
       "      <td>NaN</td>\n",
       "      <td>NaN</td>\n",
       "      <td>NaN</td>\n",
       "      <td>Tetradium</td>\n",
       "      <td>449.5</td>\n",
       "      <td>443.7</td>\n",
       "      <td>-83.828613</td>\n",
       "      <td>39.445278</td>\n",
       "      <td>gp_mid</td>\n",
       "      <td>-111.61</td>\n",
       "      <td>-25.18</td>\n",
       "      <td>101</td>\n",
       "    </tr>\n",
       "    <tr>\n",
       "      <th>3</th>\n",
       "      <td>4534</td>\n",
       "      <td>Tetradium ontario</td>\n",
       "      <td>Tetradium huronense</td>\n",
       "      <td>species</td>\n",
       "      <td>species</td>\n",
       "      <td>Rhodophyta</td>\n",
       "      <td>NaN</td>\n",
       "      <td>NaN</td>\n",
       "      <td>NaN</td>\n",
       "      <td>Tetradium</td>\n",
       "      <td>449.5</td>\n",
       "      <td>443.7</td>\n",
       "      <td>-85.012779</td>\n",
       "      <td>39.423058</td>\n",
       "      <td>gp_mid</td>\n",
       "      <td>-112.52</td>\n",
       "      <td>-24.78</td>\n",
       "      <td>101</td>\n",
       "    </tr>\n",
       "    <tr>\n",
       "      <th>4</th>\n",
       "      <td>5487</td>\n",
       "      <td>Tetradium sp.</td>\n",
       "      <td>Tetradium</td>\n",
       "      <td>genus</td>\n",
       "      <td>genus</td>\n",
       "      <td>Rhodophyta</td>\n",
       "      <td>NaN</td>\n",
       "      <td>NaN</td>\n",
       "      <td>NaN</td>\n",
       "      <td>Tetradium</td>\n",
       "      <td>449.5</td>\n",
       "      <td>443.7</td>\n",
       "      <td>-84.000000</td>\n",
       "      <td>39.000000</td>\n",
       "      <td>gp_mid</td>\n",
       "      <td>-111.97</td>\n",
       "      <td>-25.52</td>\n",
       "      <td>101</td>\n",
       "    </tr>\n",
       "  </tbody>\n",
       "</table>\n",
       "</div>"
      ],
      "text/plain": [
       "   occurrence_no       identified_name        accepted_name identified_rank  \\\n",
       "0           3285  Tetradium cellulosum            Tetradium         species   \n",
       "1           3679         Tetradium sp.            Tetradium           genus   \n",
       "2           4409         Tetradium sp.            Tetradium           genus   \n",
       "3           4534     Tetradium ontario  Tetradium huronense         species   \n",
       "4           5487         Tetradium sp.            Tetradium           genus   \n",
       "\n",
       "  accepted_rank      phylum class order family      genus  max_ma  min_ma  \\\n",
       "0         genus  Rhodophyta   NaN   NaN    NaN  Tetradium   460.9   449.5   \n",
       "1         genus  Rhodophyta   NaN   NaN    NaN  Tetradium   470.0   458.4   \n",
       "2         genus  Rhodophyta   NaN   NaN    NaN  Tetradium   449.5   443.7   \n",
       "3       species  Rhodophyta   NaN   NaN    NaN  Tetradium   449.5   443.7   \n",
       "4         genus  Rhodophyta   NaN   NaN    NaN  Tetradium   449.5   443.7   \n",
       "\n",
       "         lng        lat paleomodel  paleolng  paleolat geoplate  \n",
       "0 -75.456108  43.212776     gp_mid   -105.36    -17.34      101  \n",
       "1 -75.456108  43.212776     gp_mid   -101.77     -8.16      101  \n",
       "2 -83.828613  39.445278     gp_mid   -111.61    -25.18      101  \n",
       "3 -85.012779  39.423058     gp_mid   -112.52    -24.78      101  \n",
       "4 -84.000000  39.000000     gp_mid   -111.97    -25.52      101  "
      ]
     },
     "execution_count": 471,
     "metadata": {},
     "output_type": "execute_result"
    }
   ],
   "source": [
    "pbdb.head()"
   ]
  },
  {
   "cell_type": "code",
   "execution_count": 481,
   "id": "e4131efa",
   "metadata": {},
   "outputs": [
    {
     "data": {
      "text/plain": [
       "26984"
      ]
     },
     "execution_count": 481,
     "metadata": {},
     "output_type": "execute_result"
    }
   ],
   "source": [
    "len([j for j in [i for i in accepted_names if len(i.split())==2] if j in all_taxon_names])"
   ]
  }
 ],
 "metadata": {
  "kernelspec": {
   "display_name": "Python 3",
   "language": "python",
   "name": "python3"
  },
  "language_info": {
   "codemirror_mode": {
    "name": "ipython",
    "version": 3
   },
   "file_extension": ".py",
   "mimetype": "text/x-python",
   "name": "python",
   "nbconvert_exporter": "python",
   "pygments_lexer": "ipython3",
   "version": "3.8.5"
  }
 },
 "nbformat": 4,
 "nbformat_minor": 5
}
