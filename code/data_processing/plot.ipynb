{
 "cells": [
  {
   "cell_type": "code",
   "execution_count": 85,
   "id": "b5e3ad68",
   "metadata": {},
   "outputs": [],
   "source": [
    "import pandas as pd\n",
    "import numpy as np\n",
    "import os\n",
    "import collections\n",
    "import matplotlib.pyplot as plt\n",
    "\n",
    "# ROOTDIR is where I have my thesis folder on my computer\n",
    "ROOTDIR = \"/home/dongwuxing/Documents/thesis\"\n",
    "DATADIR = ROOTDIR + \"/dataset\"\n",
    "PBDBDIR = DATADIR + \"/pbdb\"\n",
    "PLOTDIR = ROOTDIR + \"/report/figures/result/\""
   ]
  },
  {
   "cell_type": "code",
   "execution_count": 6,
   "id": "f14757da",
   "metadata": {},
   "outputs": [],
   "source": [
    "data = pd.read_csv(os.path.join(PBDBDIR,\"pbdb_parsed_processed.csv\"))\n",
    "tree = pd.read_csv(os.path.join(PBDBDIR,\"tree.csv\"))"
   ]
  },
  {
   "cell_type": "code",
   "execution_count": null,
   "id": "5f132670",
   "metadata": {},
   "outputs": [],
   "source": [
    "# middle_ma is the middle value between maxma and minma for each fossil\n",
    "data[\"middle_ma\"] = (data[\"max_ma\"] + data[\"min_ma\"])/2\n",
    "# span is the difference between maxma and minma for each fossil\n",
    "data[\"span\"] = data[\"max_ma\"] - data[\"min_ma\"]"
   ]
  },
  {
   "cell_type": "code",
   "execution_count": 12,
   "id": "5cc06253",
   "metadata": {},
   "outputs": [
    {
     "name": "stdout",
     "output_type": "stream",
     "text": [
      "1346120 1240202 105918 0.07868392119573292\n"
     ]
    }
   ],
   "source": [
    "# totoal number of fossils, animal fossils and plant fossils\n",
    "print(data.shape[0],data[data[\"kingdom\"]==\"Animalia\"].shape[0],data[data[\"kingdom\"]==\"Plantae\"].shape[0],data[data[\"kingdom\"]==\"Plantae\"].shape[0]/data.shape[0])"
   ]
  },
  {
   "cell_type": "code",
   "execution_count": 166,
   "id": "1df6f4c0",
   "metadata": {},
   "outputs": [],
   "source": [
    "# most popular animal and plant phylums\n",
    "counts_animal_phylum = pd.DataFrame(data[data[\"kingdom\"]==\"Animalia\"][\"phylum\"].value_counts())\n",
    "counts_animal_phylum.reset_index(inplace=True)\n",
    "counts_animal_phylum = counts_animal_phylum.rename(columns={'index': 'phylum', 'phylum': 'count'})\n",
    "counts_plant_phylum = pd.DataFrame(data[data[\"kingdom\"]==\"Plantae\"][\"phylum\"].value_counts())\n",
    "counts_plant_phylum.reset_index(inplace=True)\n",
    "counts_plant_phylum = counts_plant_phylum.rename(columns={'index': 'phylum', 'phylum': 'count'})"
   ]
  },
  {
   "cell_type": "code",
   "execution_count": 65,
   "id": "b0a5eeb8",
   "metadata": {},
   "outputs": [],
   "source": [
    "# most popular animal and plant species\n",
    "counts_animal_species = pd.DataFrame(data[(data[\"kingdom\"]==\"Animalia\") & (data[\"rank\"]==\"species\")][\"path_from_root\"].value_counts())\n",
    "counts_plant_species = pd.DataFrame(data[(data[\"kingdom\"]==\"Plantae\") & (data[\"rank\"]==\"species\")][\"path_from_root\"].value_counts())"
   ]
  },
  {
   "cell_type": "code",
   "execution_count": 286,
   "id": "60cabf13",
   "metadata": {},
   "outputs": [
    {
     "data": {
      "text/html": [
       "<div>\n",
       "<style scoped>\n",
       "    .dataframe tbody tr th:only-of-type {\n",
       "        vertical-align: middle;\n",
       "    }\n",
       "\n",
       "    .dataframe tbody tr th {\n",
       "        vertical-align: top;\n",
       "    }\n",
       "\n",
       "    .dataframe thead th {\n",
       "        text-align: right;\n",
       "    }\n",
       "</style>\n",
       "<table border=\"1\" class=\"dataframe\">\n",
       "  <thead>\n",
       "    <tr style=\"text-align: right;\">\n",
       "      <th></th>\n",
       "      <th>phylum</th>\n",
       "      <th>count</th>\n",
       "    </tr>\n",
       "  </thead>\n",
       "  <tbody>\n",
       "    <tr>\n",
       "      <th>0</th>\n",
       "      <td>Spermatophyta</td>\n",
       "      <td>24029</td>\n",
       "    </tr>\n",
       "    <tr>\n",
       "      <th>1</th>\n",
       "      <td>Pteridophyta</td>\n",
       "      <td>20905</td>\n",
       "    </tr>\n",
       "    <tr>\n",
       "      <th>2</th>\n",
       "      <td>Coniferophyta</td>\n",
       "      <td>7133</td>\n",
       "    </tr>\n",
       "    <tr>\n",
       "      <th>3</th>\n",
       "      <td>Rhodophyta</td>\n",
       "      <td>5607</td>\n",
       "    </tr>\n",
       "    <tr>\n",
       "      <th>4</th>\n",
       "      <td>Angiospermae</td>\n",
       "      <td>5130</td>\n",
       "    </tr>\n",
       "  </tbody>\n",
       "</table>\n",
       "</div>"
      ],
      "text/plain": [
       "          phylum  count\n",
       "0  Spermatophyta  24029\n",
       "1   Pteridophyta  20905\n",
       "2  Coniferophyta   7133\n",
       "3     Rhodophyta   5607\n",
       "4   Angiospermae   5130"
      ]
     },
     "execution_count": 286,
     "metadata": {},
     "output_type": "execute_result"
    }
   ],
   "source": [
    "counts_plant_phylum[:5]"
   ]
  },
  {
   "cell_type": "code",
   "execution_count": 168,
   "id": "126b5cbf",
   "metadata": {
    "scrolled": true
   },
   "outputs": [
    {
     "data": {
      "text/html": [
       "<div>\n",
       "<style scoped>\n",
       "    .dataframe tbody tr th:only-of-type {\n",
       "        vertical-align: middle;\n",
       "    }\n",
       "\n",
       "    .dataframe tbody tr th {\n",
       "        vertical-align: top;\n",
       "    }\n",
       "\n",
       "    .dataframe thead th {\n",
       "        text-align: right;\n",
       "    }\n",
       "</style>\n",
       "<table border=\"1\" class=\"dataframe\">\n",
       "  <thead>\n",
       "    <tr style=\"text-align: right;\">\n",
       "      <th></th>\n",
       "      <th>phylum</th>\n",
       "      <th>count</th>\n",
       "    </tr>\n",
       "  </thead>\n",
       "  <tbody>\n",
       "    <tr>\n",
       "      <th>0</th>\n",
       "      <td>Mollusca</td>\n",
       "      <td>471115</td>\n",
       "    </tr>\n",
       "    <tr>\n",
       "      <th>1</th>\n",
       "      <td>Chordata</td>\n",
       "      <td>271340</td>\n",
       "    </tr>\n",
       "    <tr>\n",
       "      <th>2</th>\n",
       "      <td>Brachiopoda</td>\n",
       "      <td>179683</td>\n",
       "    </tr>\n",
       "    <tr>\n",
       "      <th>3</th>\n",
       "      <td>Arthropoda</td>\n",
       "      <td>147171</td>\n",
       "    </tr>\n",
       "    <tr>\n",
       "      <th>4</th>\n",
       "      <td>Cnidaria</td>\n",
       "      <td>66575</td>\n",
       "    </tr>\n",
       "  </tbody>\n",
       "</table>\n",
       "</div>"
      ],
      "text/plain": [
       "        phylum   count\n",
       "0     Mollusca  471115\n",
       "1     Chordata  271340\n",
       "2  Brachiopoda  179683\n",
       "3   Arthropoda  147171\n",
       "4     Cnidaria   66575"
      ]
     },
     "execution_count": 168,
     "metadata": {},
     "output_type": "execute_result"
    }
   ],
   "source": [
    "counts_animal_phylum[:5]"
   ]
  },
  {
   "cell_type": "code",
   "execution_count": null,
   "id": "daa0e3ef",
   "metadata": {},
   "outputs": [],
   "source": [
    "plt.bar(animal_name_desc[:10],animal_value_desc[:10])\n",
    "plt.title(\"Top 10 mostly identified animals\")\n",
    "plt.xticks(rotation=45,ha=\"right\")\n",
    "plt.ylabel(\"amount\")"
   ]
  },
  {
   "cell_type": "code",
   "execution_count": 282,
   "id": "ed52b0a3",
   "metadata": {},
   "outputs": [
    {
     "data": {
      "image/png": "[encoded data removed]",
      "text/plain": [
       "<Figure size 432x288 with 1 Axes>"
      ]
     },
     "metadata": {
      "needs_background": "light"
     },
     "output_type": "display_data"
    }
   ],
   "source": [
    "# plot top animal phylums \n",
    "fig, axs = plt.subplots(figsize=(6,4))\n",
    "fig.subplots_adjust(bottom=0.3)\n",
    "plt.bar(counts_animal_phylum[\"phylum\"][:5],counts_animal_phylum[\"count\"][:5])\n",
    "axs.ticklabel_format(axis='y',style=\"sci\",scilimits=(5,5)) \n",
    "plt.title(\"Top 5 animal phylums\")\n",
    "plt.xticks(rotation=45,ha=\"right\")\n",
    "plt.ylabel(\"amount\")\n",
    "plt.savefig(PLOTDIR + \"animal_phylums.png\")"
   ]
  },
  {
   "cell_type": "code",
   "execution_count": 281,
   "id": "4cf77489",
   "metadata": {},
   "outputs": [
    {
     "data": {
      "image/png": "[encoded data removed]",
      "text/plain": [
       "<Figure size 432x288 with 1 Axes>"
      ]
     },
     "metadata": {
      "needs_background": "light"
     },
     "output_type": "display_data"
    }
   ],
   "source": [
    "# plot top plant phylums \n",
    "fig, axs = plt.subplots(figsize=(6,4))\n",
    "fig.subplots_adjust(bottom=0.3)\n",
    "plt.bar(counts_plant_phylum[\"phylum\"][:5],counts_plant_phylum[\"count\"][:5])\n",
    "axs.ticklabel_format(axis='y',style=\"sci\",scilimits=(4,4)) \n",
    "plt.title(\"Top 5 plant phylums\")\n",
    "plt.xticks(rotation=45,ha=\"right\")\n",
    "plt.ylabel(\"amount\")\n",
    "plt.savefig(PLOTDIR + \"plant_phylums.png\")"
   ]
  },
  {
   "cell_type": "code",
   "execution_count": 178,
   "id": "75c30c33",
   "metadata": {},
   "outputs": [],
   "source": [
    "# most popular nodes\n",
    "nodes_fossil_rank = pd.DataFrame(data[\"path_from_root\"].value_counts())\n",
    "nodes_fossil_rank.reset_index(inplace=True)\n",
    "nodes_fossil_rank = nodes_fossil_rank.rename(columns={\"index\":\"path_from_root\",\"path_from_root\":\"counts\"})"
   ]
  },
  {
   "cell_type": "code",
   "execution_count": 206,
   "id": "fcb0f115",
   "metadata": {
    "scrolled": true
   },
   "outputs": [
    {
     "name": "stderr",
     "output_type": "stream",
     "text": [
      "/tmp/ipykernel_450980/2577073343.py:2: SettingWithCopyWarning: \n",
      "A value is trying to be set on a copy of a slice from a DataFrame.\n",
      "Try using .loc[row_indexer,col_indexer] = value instead\n",
      "\n",
      "See the caveats in the documentation: https://pandas.pydata.org/pandas-docs/stable/user_guide/indexing.html#returning-a-view-versus-a-copy\n",
      "  top_nodes [\"name\"] = [tree[tree[\"pathFromRoot\"]==i].iloc[0][\"name\"] for i in top_nodes[\"path_from_root\"]]\n",
      "/tmp/ipykernel_450980/2577073343.py:3: SettingWithCopyWarning: \n",
      "A value is trying to be set on a copy of a slice from a DataFrame.\n",
      "Try using .loc[row_indexer,col_indexer] = value instead\n",
      "\n",
      "See the caveats in the documentation: https://pandas.pydata.org/pandas-docs/stable/user_guide/indexing.html#returning-a-view-versus-a-copy\n",
      "  top_nodes [\"rank\"] = [tree[tree[\"pathFromRoot\"]==i].iloc[0][\"rank\"] for i in top_nodes[\"path_from_root\"]]\n",
      "/tmp/ipykernel_450980/2577073343.py:4: SettingWithCopyWarning: \n",
      "A value is trying to be set on a copy of a slice from a DataFrame.\n",
      "Try using .loc[row_indexer,col_indexer] = value instead\n",
      "\n",
      "See the caveats in the documentation: https://pandas.pydata.org/pandas-docs/stable/user_guide/indexing.html#returning-a-view-versus-a-copy\n",
      "  top_nodes [\"name_and_rank\"] = top_nodes[\"name\"] + \"(\" + top_nodes[\"rank\"] + \")\"\n"
     ]
    }
   ],
   "source": [
    "top_nodes = nodes_fossil_rank[:5]\n",
    "top_nodes [\"name\"] = [tree[tree[\"pathFromRoot\"]==i].iloc[0][\"name\"] for i in top_nodes[\"path_from_root\"]]\n",
    "top_nodes [\"rank\"] = [tree[tree[\"pathFromRoot\"]==i].iloc[0][\"rank\"] for i in top_nodes[\"path_from_root\"]]\n",
    "top_nodes [\"name_and_rank\"] = top_nodes[\"name\"] + \"(\" + top_nodes[\"rank\"] + \")\""
   ]
  },
  {
   "cell_type": "code",
   "execution_count": 285,
   "id": "46732011",
   "metadata": {},
   "outputs": [
    {
     "data": {
      "image/png": "[encoded data removed]",
      "text/plain": [
       "<Figure size 432x288 with 1 Axes>"
      ]
     },
     "metadata": {
      "needs_background": "light"
     },
     "output_type": "display_data"
    }
   ],
   "source": [
    "# plot nodes with most fossils\n",
    "fig, axs = plt.subplots(figsize=(6,4))\n",
    "fig.subplots_adjust(bottom=0.35)\n",
    "plt.bar(top_nodes[\"name_and_rank\"][:5],top_nodes[\"counts\"][:5])\n",
    "axs.ticklabel_format(axis='y',style=\"sci\",scilimits=(4,4)) \n",
    "plt.title(\"Top 5 tree nodes with most fossils\")\n",
    "plt.xticks(rotation=45,ha=\"right\")\n",
    "plt.ylabel(\"amount\")\n",
    "plt.savefig(PLOTDIR + \"top_nodes.png\")"
   ]
  },
  {
   "cell_type": "code",
   "execution_count": null,
   "id": "25e7f1d2",
   "metadata": {},
   "outputs": [],
   "source": []
  },
  {
   "cell_type": "code",
   "execution_count": 161,
   "id": "3ad033b7",
   "metadata": {},
   "outputs": [
    {
     "data": {
      "image/png": "[encoded data removed]",
      "text/plain": [
       "<Figure size 432x288 with 1 Axes>"
      ]
     },
     "metadata": {
      "needs_background": "light"
     },
     "output_type": "display_data"
    }
   ],
   "source": [
    "# plot fossil distribution over space\n",
    "fig, axs = plt.subplots(figsize=(6,4))\n",
    "plt.scatter(data[\"lng\"],data[\"lat\"], s=0.00012)\n",
    "plt.title(\"Fossil distribution over space\")\n",
    "plt.xlabel(\"longtitude\")\n",
    "plt.ylabel(\"latitude\")\n",
    "plt.savefig(PLOTDIR + \"space_distribution.png\")"
   ]
  },
  {
   "cell_type": "code",
   "execution_count": 121,
   "id": "b5547181",
   "metadata": {},
   "outputs": [
    {
     "data": {
      "image/png": "[encoded data removed]",
      "text/plain": [
       "<Figure size 432x288 with 1 Axes>"
      ]
     },
     "metadata": {
      "needs_background": "light"
     },
     "output_type": "display_data"
    }
   ],
   "source": [
    "# plot fossil distribution over time\n",
    "fig, axs = plt.subplots(figsize=(6,4))\n",
    "plt.xlim(-3,600)\n",
    "data[\"middle_ma\"].hist(bins=100)\n",
    "axs.grid(False)\n",
    "axs.ticklabel_format(axis='y',style=\"sci\",scilimits=(5,5)) \n",
    "plt.title(\"Fossil distribution over time\")\n",
    "plt.xlabel(\"millions of years ago\")\n",
    "plt.ylabel(\"amount\")\n",
    "plt.savefig(PLOTDIR + \"time_distribution.png\")"
   ]
  },
  {
   "cell_type": "code",
   "execution_count": 51,
   "id": "40713fc2",
   "metadata": {},
   "outputs": [
    {
     "name": "stdout",
     "output_type": "stream",
     "text": [
      "6.799983463138497 7.585719855649793\n"
     ]
    }
   ],
   "source": [
    "# average and sd of span\n",
    "print(data[\"span\"].mean(), data[\"span\"].std())"
   ]
  },
  {
   "cell_type": "code",
   "execution_count": 211,
   "id": "bcddc37d",
   "metadata": {
    "scrolled": true
   },
   "outputs": [
    {
     "data": {
      "image/png": "[encoded data removed]",
      "text/plain": [
       "<Figure size 432x288 with 1 Axes>"
      ]
     },
     "metadata": {
      "needs_background": "light"
     },
     "output_type": "display_data"
    }
   ],
   "source": [
    "# plot fossil age range histogram\n",
    "fig, axs = plt.subplots(figsize=(6,4))\n",
    "plt.xlim(-0.5,600)\n",
    "data[data[\"span\"]<40][\"span\"].hist(bins=40)\n",
    "plt.xlim(-0.5,40)\n",
    "axs.grid(False)\n",
    "axs.ticklabel_format(axis='y',style=\"sci\",scilimits=(5,5)) \n",
    "plt.title(\"Histogram of fossil age range\")\n",
    "plt.xlabel(\"millions of years\")\n",
    "plt.ylabel(\"amount\")\n",
    "plt.savefig(PLOTDIR + \"age_range.png\")\n"
   ]
  },
  {
   "cell_type": "code",
   "execution_count": 108,
   "id": "cfc48b64",
   "metadata": {},
   "outputs": [
    {
     "name": "stdout",
     "output_type": "stream",
     "text": [
      "0.0 444\n"
     ]
    }
   ],
   "source": [
    "# minimal age range and amount\n",
    "print(data[\"span\"].min(), data[data[\"span\"]==data[\"span\"].min()].shape[0])"
   ]
  },
  {
   "cell_type": "code",
   "execution_count": 109,
   "id": "f5563e56",
   "metadata": {},
   "outputs": [
    {
     "name": "stdout",
     "output_type": "stream",
     "text": [
      "475.0 1\n"
     ]
    }
   ],
   "source": [
    "# maximal age range and amount\n",
    "print(data[\"span\"].max(), data[data[\"span\"]==data[\"span\"].max()].shape[0])"
   ]
  },
  {
   "cell_type": "code",
   "execution_count": 110,
   "id": "f51c2005",
   "metadata": {},
   "outputs": [
    {
     "data": {
      "text/html": [
       "<div>\n",
       "<style scoped>\n",
       "    .dataframe tbody tr th:only-of-type {\n",
       "        vertical-align: middle;\n",
       "    }\n",
       "\n",
       "    .dataframe tbody tr th {\n",
       "        vertical-align: top;\n",
       "    }\n",
       "\n",
       "    .dataframe thead th {\n",
       "        text-align: right;\n",
       "    }\n",
       "</style>\n",
       "<table border=\"1\" class=\"dataframe\">\n",
       "  <thead>\n",
       "    <tr style=\"text-align: right;\">\n",
       "      <th></th>\n",
       "      <th>occurrence_no</th>\n",
       "      <th>accepted_name</th>\n",
       "      <th>accepted_rank</th>\n",
       "      <th>kingdom</th>\n",
       "      <th>phylum</th>\n",
       "      <th>class</th>\n",
       "      <th>order</th>\n",
       "      <th>family</th>\n",
       "      <th>genus</th>\n",
       "      <th>max_ma</th>\n",
       "      <th>min_ma</th>\n",
       "      <th>lng</th>\n",
       "      <th>lat</th>\n",
       "      <th>index</th>\n",
       "      <th>path_from_root</th>\n",
       "      <th>rank</th>\n",
       "      <th>middle_ma</th>\n",
       "      <th>span</th>\n",
       "    </tr>\n",
       "  </thead>\n",
       "  <tbody>\n",
       "    <tr>\n",
       "      <th>184809</th>\n",
       "      <td>960039</td>\n",
       "      <td>Rugosa</td>\n",
       "      <td>subclass</td>\n",
       "      <td>Animalia</td>\n",
       "      <td>Cnidaria</td>\n",
       "      <td>Anthozoa</td>\n",
       "      <td>NaN</td>\n",
       "      <td>NaN</td>\n",
       "      <td>NaN</td>\n",
       "      <td>541.0</td>\n",
       "      <td>66.0</td>\n",
       "      <td>-131.358002</td>\n",
       "      <td>55.080002</td>\n",
       "      <td>109092</td>\n",
       "      <td>Eukaryota,Animalia,Cnidaria,Anthozoa</td>\n",
       "      <td>class</td>\n",
       "      <td>303.5</td>\n",
       "      <td>475.0</td>\n",
       "    </tr>\n",
       "  </tbody>\n",
       "</table>\n",
       "</div>"
      ],
      "text/plain": [
       "        occurrence_no accepted_name accepted_rank   kingdom    phylum  \\\n",
       "184809         960039        Rugosa      subclass  Animalia  Cnidaria   \n",
       "\n",
       "           class order family genus  max_ma  min_ma         lng        lat  \\\n",
       "184809  Anthozoa   NaN    NaN   NaN   541.0    66.0 -131.358002  55.080002   \n",
       "\n",
       "         index                        path_from_root   rank  middle_ma   span  \n",
       "184809  109092  Eukaryota,Animalia,Cnidaria,Anthozoa  class      303.5  475.0  "
      ]
     },
     "execution_count": 110,
     "metadata": {},
     "output_type": "execute_result"
    }
   ],
   "source": [
    "# find which fossil it is\n",
    "data[data[\"span\"]==475]"
   ]
  },
  {
   "cell_type": "code",
   "execution_count": null,
   "id": "e6caa2cb",
   "metadata": {},
   "outputs": [],
   "source": [
    "# rank distribution of fossils\n",
    "# loss of detail for the fossils"
   ]
  },
  {
   "cell_type": "code",
   "execution_count": null,
   "id": "16f81f1b",
   "metadata": {},
   "outputs": [],
   "source": [
    "# breakdown of most popular phylums \n",
    "# number of nodes with no fossils attached \n",
    "# number of nodes with repetitive names \n",
    "# nodes with the most amount of fossils attached"
   ]
  },
  {
   "cell_type": "code",
   "execution_count": 122,
   "id": "1d63a69f",
   "metadata": {},
   "outputs": [],
   "source": []
  },
  {
   "cell_type": "code",
   "execution_count": 125,
   "id": "db8c65d4",
   "metadata": {},
   "outputs": [
    {
     "name": "stdout",
     "output_type": "stream",
     "text": [
      "1 2 60 159 1061 7305 47828 119701 252\n"
     ]
    }
   ],
   "source": [
    "# number of nodes on each layer\n",
    "print(tree[tree[\"rank\"]==\"domain\"].shape[0],tree[tree[\"rank\"]==\"kingdom\"].shape[0],tree[tree[\"rank\"]==\"phylum\"].shape[0],tree[tree[\"rank\"]==\"class\"].shape[0],tree[tree[\"rank\"]==\"order\"].shape[0],tree[tree[\"rank\"]==\"family\"].shape[0],tree[tree[\"rank\"]==\"genus\"].shape[0],tree[tree[\"rank\"]==\"species\"].shape[0],tree[tree[\"rank\"]==\"subspecies\"].shape[0])"
   ]
  },
  {
   "cell_type": "code",
   "execution_count": 126,
   "id": "8278f4e7",
   "metadata": {},
   "outputs": [
    {
     "name": "stdout",
     "output_type": "stream",
     "text": [
      "176369 147315\n"
     ]
    }
   ],
   "source": [
    "# number of all nodes and nodes with fossils\n",
    "print(tree.shape[0], len(data[\"path_from_root\"].unique()))"
   ]
  },
  {
   "cell_type": "code",
   "execution_count": null,
   "id": "cdb1cd3a",
   "metadata": {},
   "outputs": [],
   "source": [
    "data[data[\"accepted_rank\"]==\"species\" & ]"
   ]
  },
  {
   "cell_type": "code",
   "execution_count": 131,
   "id": "6f5c7b2c",
   "metadata": {},
   "outputs": [],
   "source": [
    "ranks = [\"domain\",\"kingdom\",\"phylum\",\"class\",\"order\",\"family\",\"genus\",\"species\",\"subspecies\"]"
   ]
  },
  {
   "cell_type": "code",
   "execution_count": 132,
   "id": "78b491a1",
   "metadata": {},
   "outputs": [
    {
     "data": {
      "text/plain": [
       "(1361, 18)"
      ]
     },
     "execution_count": 132,
     "metadata": {},
     "output_type": "execute_result"
    }
   ],
   "source": [
    "data[data[\"accepted_rank\"]==\"subspecies\"].shape"
   ]
  },
  {
   "cell_type": "code",
   "execution_count": 134,
   "id": "e5ba0814",
   "metadata": {},
   "outputs": [
    {
     "data": {
      "text/plain": [
       "(53579, 18)"
      ]
     },
     "execution_count": 134,
     "metadata": {},
     "output_type": "execute_result"
    }
   ],
   "source": [
    "# number of fossils not in standard ranks\n",
    "data[~data[\"accepted_rank\"].isin(ranks)].shape"
   ]
  },
  {
   "cell_type": "code",
   "execution_count": 136,
   "id": "202942af",
   "metadata": {},
   "outputs": [
    {
     "data": {
      "text/plain": [
       "['genus',\n",
       " 'species',\n",
       " 'phylum',\n",
       " 'family',\n",
       " 'subclass',\n",
       " 'kingdom',\n",
       " 'class',\n",
       " 'order',\n",
       " 'subgenus',\n",
       " 'superphylum',\n",
       " 'unranked clade',\n",
       " 'subphylum',\n",
       " 'subfamily',\n",
       " 'tribe',\n",
       " 'subkingdom',\n",
       " 'superfamily',\n",
       " 'superorder',\n",
       " 'subspecies',\n",
       " 'suborder',\n",
       " 'superclass',\n",
       " 'infraclass',\n",
       " 'infraorder',\n",
       " 'subtribe',\n",
       " 'informal']"
      ]
     },
     "execution_count": 136,
     "metadata": {},
     "output_type": "execute_result"
    }
   ],
   "source": [
    "# all the accepted ranks\n",
    "data[\"accepted_rank\"].unique().tolist()"
   ]
  },
  {
   "cell_type": "code",
   "execution_count": 135,
   "id": "95b725c2",
   "metadata": {},
   "outputs": [
    {
     "name": "stdout",
     "output_type": "stream",
     "text": [
      "(209257, 18) (58874, 18)\n"
     ]
    }
   ],
   "source": [
    "# number of animal and plant fossils losing rank information \n",
    "print(data[(data[\"accepted_rank\"]!=data[\"rank\"])&(data[\"kingdom\"]==\"Animalia\")].shape,data[(data[\"accepted_rank\"]!=data[\"rank\"])&(data[\"kingdom\"]==\"Plantae\")].shape)"
   ]
  },
  {
   "cell_type": "code",
   "execution_count": 153,
   "id": "68c5e35f",
   "metadata": {},
   "outputs": [],
   "source": [
    "# and number of fossils on each layer that doesn't belong there before\n",
    "animal_dislocation, plant_dislocation = pd.DataFrame({\"rank\":ranks}),pd.DataFrame({\"rank\":ranks})\n",
    "animal_dislocation[\"counts\"] = [data[(data[\"kingdom\"]==\"Animalia\")&(data[\"accepted_rank\"]!=data[\"rank\"])&(data[\"rank\"]==rank)].shape[0] for rank in ranks]\n",
    "animal_dislocation[\"percentage\"] = animal_dislocation[\"counts\"]/data[(data[\"accepted_rank\"]!=data[\"rank\"])&(data[\"kingdom\"]==\"Animalia\")].shape[0]*100\n",
    "plant_dislocation[\"counts\"] = [data[(data[\"kingdom\"]==\"Plantae\")&(data[\"accepted_rank\"]!=data[\"rank\"])&(data[\"rank\"]==rank)].shape[0] for rank in ranks]\n",
    "plant_dislocation[\"percentage\"] = plant_dislocation[\"counts\"]/data[(data[\"accepted_rank\"]!=data[\"rank\"])&(data[\"kingdom\"]==\"Plantae\")].shape[0]*100"
   ]
  },
  {
   "cell_type": "code",
   "execution_count": 272,
   "id": "ed17ce19",
   "metadata": {
    "scrolled": true
   },
   "outputs": [
    {
     "data": {
      "image/png": "[encoded data removed]",
      "text/plain": [
       "<Figure size 432x288 with 1 Axes>"
      ]
     },
     "metadata": {},
     "output_type": "display_data"
    }
   ],
   "source": [
    "# plot the percentage of the relocated animal fossils\n",
    "\n",
    "values = animal_dislocation[animal_dislocation[\"counts\"]>0][\"counts\"]\n",
    "labels = animal_dislocation[animal_dislocation[\"counts\"]>0][\"rank\"]\n",
    "percentages = animal_dislocation[animal_dislocation[\"counts\"]>0][\"percentage\"]\n",
    "legend_labels = ['{0} - {1:1.2f} %'.format(i,j) for i,j in zip(labels, percentages)]\n",
    "patches, texts = plt.pie(values, startangle=90)\n",
    "plt.title(\"Rank distribution of relocated animal fossils\")\n",
    "plt.legend(patches, legend_labels, loc='center left', bbox_to_anchor=(-0.5, 0.5),\n",
    "           fontsize=8)\n",
    "plt.savefig(PLOTDIR + \"animal_relocate.png\")\n"
   ]
  },
  {
   "cell_type": "code",
   "execution_count": 271,
   "id": "1a92c66d",
   "metadata": {},
   "outputs": [
    {
     "data": {
      "image/png": "[encoded data removed]",
      "text/plain": [
       "<Figure size 432x288 with 1 Axes>"
      ]
     },
     "metadata": {},
     "output_type": "display_data"
    }
   ],
   "source": [
    "# plot the percentage of the relocated plant fossils\n",
    "\n",
    "values = plant_dislocation[plant_dislocation[\"counts\"]>0][\"counts\"]\n",
    "labels = plant_dislocation[plant_dislocation[\"counts\"]>0][\"rank\"]\n",
    "percentages = plant_dislocation[plant_dislocation[\"counts\"]>0][\"percentage\"]\n",
    "legend_labels = ['{0} - {1:1.2f} %'.format(i,j) for i,j in zip(labels, percentages)]\n",
    "patches, texts = plt.pie(values, startangle=90)\n",
    "plt.title(\"Rank distribution of relocated plant fossils\")\n",
    "plt.legend(patches, legend_labels, loc='center left', bbox_to_anchor=(-0.5, 0.5),\n",
    "           fontsize=8)\n",
    "plt.savefig(PLOTDIR + \"plant_relocate.png\")"
   ]
  },
  {
   "cell_type": "code",
   "execution_count": 273,
   "id": "54608dbb",
   "metadata": {},
   "outputs": [
    {
     "data": {
      "text/html": [
       "<div>\n",
       "<style scoped>\n",
       "    .dataframe tbody tr th:only-of-type {\n",
       "        vertical-align: middle;\n",
       "    }\n",
       "\n",
       "    .dataframe tbody tr th {\n",
       "        vertical-align: top;\n",
       "    }\n",
       "\n",
       "    .dataframe thead th {\n",
       "        text-align: right;\n",
       "    }\n",
       "</style>\n",
       "<table border=\"1\" class=\"dataframe\">\n",
       "  <thead>\n",
       "    <tr style=\"text-align: right;\">\n",
       "      <th></th>\n",
       "      <th>occurrence_no</th>\n",
       "      <th>accepted_name</th>\n",
       "      <th>accepted_rank</th>\n",
       "      <th>kingdom</th>\n",
       "      <th>phylum</th>\n",
       "      <th>class</th>\n",
       "      <th>order</th>\n",
       "      <th>family</th>\n",
       "      <th>genus</th>\n",
       "      <th>max_ma</th>\n",
       "      <th>min_ma</th>\n",
       "      <th>lng</th>\n",
       "      <th>lat</th>\n",
       "      <th>index</th>\n",
       "      <th>path_from_root</th>\n",
       "      <th>rank</th>\n",
       "      <th>middle_ma</th>\n",
       "      <th>span</th>\n",
       "    </tr>\n",
       "  </thead>\n",
       "  <tbody>\n",
       "    <tr>\n",
       "      <th>150847</th>\n",
       "      <td>879665</td>\n",
       "      <td>Porifera</td>\n",
       "      <td>phylum</td>\n",
       "      <td>Animalia</td>\n",
       "      <td>Porifera</td>\n",
       "      <td>NaN</td>\n",
       "      <td>NaN</td>\n",
       "      <td>NaN</td>\n",
       "      <td>NaN</td>\n",
       "      <td>1000.0</td>\n",
       "      <td>541.0</td>\n",
       "      <td>107.406113</td>\n",
       "      <td>27.145832</td>\n",
       "      <td>107870</td>\n",
       "      <td>Eukaryota,Animalia,Porifera</td>\n",
       "      <td>phylum</td>\n",
       "      <td>770.5</td>\n",
       "      <td>459.0</td>\n",
       "    </tr>\n",
       "    <tr>\n",
       "      <th>150848</th>\n",
       "      <td>879668</td>\n",
       "      <td>Porifera</td>\n",
       "      <td>phylum</td>\n",
       "      <td>Animalia</td>\n",
       "      <td>Porifera</td>\n",
       "      <td>NaN</td>\n",
       "      <td>NaN</td>\n",
       "      <td>NaN</td>\n",
       "      <td>NaN</td>\n",
       "      <td>1000.0</td>\n",
       "      <td>541.0</td>\n",
       "      <td>107.406113</td>\n",
       "      <td>27.145832</td>\n",
       "      <td>107870</td>\n",
       "      <td>Eukaryota,Animalia,Porifera</td>\n",
       "      <td>phylum</td>\n",
       "      <td>770.5</td>\n",
       "      <td>459.0</td>\n",
       "    </tr>\n",
       "    <tr>\n",
       "      <th>391540</th>\n",
       "      <td>879673</td>\n",
       "      <td>Animalia</td>\n",
       "      <td>kingdom</td>\n",
       "      <td>Animalia</td>\n",
       "      <td>NaN</td>\n",
       "      <td>NaN</td>\n",
       "      <td>NaN</td>\n",
       "      <td>NaN</td>\n",
       "      <td>NaN</td>\n",
       "      <td>1000.0</td>\n",
       "      <td>541.0</td>\n",
       "      <td>138.573883</td>\n",
       "      <td>-31.558889</td>\n",
       "      <td>132185</td>\n",
       "      <td>Eukaryota,Animalia</td>\n",
       "      <td>kingdom</td>\n",
       "      <td>770.5</td>\n",
       "      <td>459.0</td>\n",
       "    </tr>\n",
       "    <tr>\n",
       "      <th>391541</th>\n",
       "      <td>879787</td>\n",
       "      <td>Animalia</td>\n",
       "      <td>kingdom</td>\n",
       "      <td>Animalia</td>\n",
       "      <td>NaN</td>\n",
       "      <td>NaN</td>\n",
       "      <td>NaN</td>\n",
       "      <td>NaN</td>\n",
       "      <td>NaN</td>\n",
       "      <td>1000.0</td>\n",
       "      <td>541.0</td>\n",
       "      <td>138.000000</td>\n",
       "      <td>-31.000000</td>\n",
       "      <td>132185</td>\n",
       "      <td>Eukaryota,Animalia</td>\n",
       "      <td>kingdom</td>\n",
       "      <td>770.5</td>\n",
       "      <td>459.0</td>\n",
       "    </tr>\n",
       "    <tr>\n",
       "      <th>514970</th>\n",
       "      <td>879664</td>\n",
       "      <td>Cnidaria</td>\n",
       "      <td>phylum</td>\n",
       "      <td>Animalia</td>\n",
       "      <td>Cnidaria</td>\n",
       "      <td>NaN</td>\n",
       "      <td>NaN</td>\n",
       "      <td>NaN</td>\n",
       "      <td>NaN</td>\n",
       "      <td>1000.0</td>\n",
       "      <td>541.0</td>\n",
       "      <td>107.406113</td>\n",
       "      <td>27.145832</td>\n",
       "      <td>183715</td>\n",
       "      <td>Eukaryota,Animalia,Cnidaria</td>\n",
       "      <td>phylum</td>\n",
       "      <td>770.5</td>\n",
       "      <td>459.0</td>\n",
       "    </tr>\n",
       "    <tr>\n",
       "      <th>514971</th>\n",
       "      <td>879667</td>\n",
       "      <td>Cnidaria</td>\n",
       "      <td>phylum</td>\n",
       "      <td>Animalia</td>\n",
       "      <td>Cnidaria</td>\n",
       "      <td>NaN</td>\n",
       "      <td>NaN</td>\n",
       "      <td>NaN</td>\n",
       "      <td>NaN</td>\n",
       "      <td>1000.0</td>\n",
       "      <td>541.0</td>\n",
       "      <td>107.406113</td>\n",
       "      <td>27.145832</td>\n",
       "      <td>183715</td>\n",
       "      <td>Eukaryota,Animalia,Cnidaria</td>\n",
       "      <td>phylum</td>\n",
       "      <td>770.5</td>\n",
       "      <td>459.0</td>\n",
       "    </tr>\n",
       "    <tr>\n",
       "      <th>528059</th>\n",
       "      <td>129642</td>\n",
       "      <td>Nimbia</td>\n",
       "      <td>genus</td>\n",
       "      <td>Animalia</td>\n",
       "      <td>Problematica</td>\n",
       "      <td>NaN</td>\n",
       "      <td>NaN</td>\n",
       "      <td>NaN</td>\n",
       "      <td>Nimbia</td>\n",
       "      <td>1000.0</td>\n",
       "      <td>541.0</td>\n",
       "      <td>-4.250000</td>\n",
       "      <td>26.000000</td>\n",
       "      <td>194549</td>\n",
       "      <td>Eukaryota,Animalia,Problematica</td>\n",
       "      <td>phylum</td>\n",
       "      <td>770.5</td>\n",
       "      <td>459.0</td>\n",
       "    </tr>\n",
       "    <tr>\n",
       "      <th>537506</th>\n",
       "      <td>1157799</td>\n",
       "      <td>Bavlinella</td>\n",
       "      <td>genus</td>\n",
       "      <td>Animalia</td>\n",
       "      <td>Problematica</td>\n",
       "      <td>NaN</td>\n",
       "      <td>NaN</td>\n",
       "      <td>NaN</td>\n",
       "      <td>Bavlinella</td>\n",
       "      <td>1000.0</td>\n",
       "      <td>541.0</td>\n",
       "      <td>18.333332</td>\n",
       "      <td>78.949997</td>\n",
       "      <td>200529</td>\n",
       "      <td>Eukaryota,Animalia,Problematica</td>\n",
       "      <td>phylum</td>\n",
       "      <td>770.5</td>\n",
       "      <td>459.0</td>\n",
       "    </tr>\n",
       "    <tr>\n",
       "      <th>537507</th>\n",
       "      <td>1157804</td>\n",
       "      <td>Bavlinella</td>\n",
       "      <td>genus</td>\n",
       "      <td>Animalia</td>\n",
       "      <td>Problematica</td>\n",
       "      <td>NaN</td>\n",
       "      <td>NaN</td>\n",
       "      <td>NaN</td>\n",
       "      <td>Bavlinella</td>\n",
       "      <td>1000.0</td>\n",
       "      <td>541.0</td>\n",
       "      <td>17.500000</td>\n",
       "      <td>79.183334</td>\n",
       "      <td>200529</td>\n",
       "      <td>Eukaryota,Animalia,Problematica</td>\n",
       "      <td>phylum</td>\n",
       "      <td>770.5</td>\n",
       "      <td>459.0</td>\n",
       "    </tr>\n",
       "    <tr>\n",
       "      <th>537508</th>\n",
       "      <td>1157807</td>\n",
       "      <td>Bavlinella</td>\n",
       "      <td>genus</td>\n",
       "      <td>Animalia</td>\n",
       "      <td>Problematica</td>\n",
       "      <td>NaN</td>\n",
       "      <td>NaN</td>\n",
       "      <td>NaN</td>\n",
       "      <td>Bavlinella</td>\n",
       "      <td>1000.0</td>\n",
       "      <td>541.0</td>\n",
       "      <td>17.866667</td>\n",
       "      <td>78.816666</td>\n",
       "      <td>200529</td>\n",
       "      <td>Eukaryota,Animalia,Problematica</td>\n",
       "      <td>phylum</td>\n",
       "      <td>770.5</td>\n",
       "      <td>459.0</td>\n",
       "    </tr>\n",
       "    <tr>\n",
       "      <th>566461</th>\n",
       "      <td>129641</td>\n",
       "      <td>Medusinites</td>\n",
       "      <td>genus</td>\n",
       "      <td>Animalia</td>\n",
       "      <td>Problematica</td>\n",
       "      <td>NaN</td>\n",
       "      <td>NaN</td>\n",
       "      <td>NaN</td>\n",
       "      <td>Medusinites</td>\n",
       "      <td>1000.0</td>\n",
       "      <td>541.0</td>\n",
       "      <td>-4.250000</td>\n",
       "      <td>26.000000</td>\n",
       "      <td>222251</td>\n",
       "      <td>Eukaryota,Animalia,Problematica</td>\n",
       "      <td>phylum</td>\n",
       "      <td>770.5</td>\n",
       "      <td>459.0</td>\n",
       "    </tr>\n",
       "    <tr>\n",
       "      <th>569029</th>\n",
       "      <td>128398</td>\n",
       "      <td>Papillomembrana compta</td>\n",
       "      <td>species</td>\n",
       "      <td>Animalia</td>\n",
       "      <td>Problematica</td>\n",
       "      <td>NaN</td>\n",
       "      <td>NaN</td>\n",
       "      <td>NaN</td>\n",
       "      <td>Papillomembrana</td>\n",
       "      <td>1000.0</td>\n",
       "      <td>541.0</td>\n",
       "      <td>11.150000</td>\n",
       "      <td>60.783333</td>\n",
       "      <td>224300</td>\n",
       "      <td>Eukaryota,Animalia,Problematica</td>\n",
       "      <td>phylum</td>\n",
       "      <td>770.5</td>\n",
       "      <td>459.0</td>\n",
       "    </tr>\n",
       "    <tr>\n",
       "      <th>1132753</th>\n",
       "      <td>879663</td>\n",
       "      <td>Eumetazoa</td>\n",
       "      <td>unranked clade</td>\n",
       "      <td>Animalia</td>\n",
       "      <td>NaN</td>\n",
       "      <td>NaN</td>\n",
       "      <td>NaN</td>\n",
       "      <td>NaN</td>\n",
       "      <td>NaN</td>\n",
       "      <td>1000.0</td>\n",
       "      <td>541.0</td>\n",
       "      <td>107.406113</td>\n",
       "      <td>27.145832</td>\n",
       "      <td>783133</td>\n",
       "      <td>Eukaryota,Animalia</td>\n",
       "      <td>kingdom</td>\n",
       "      <td>770.5</td>\n",
       "      <td>459.0</td>\n",
       "    </tr>\n",
       "    <tr>\n",
       "      <th>1132754</th>\n",
       "      <td>879666</td>\n",
       "      <td>Eumetazoa</td>\n",
       "      <td>unranked clade</td>\n",
       "      <td>Animalia</td>\n",
       "      <td>NaN</td>\n",
       "      <td>NaN</td>\n",
       "      <td>NaN</td>\n",
       "      <td>NaN</td>\n",
       "      <td>NaN</td>\n",
       "      <td>1000.0</td>\n",
       "      <td>541.0</td>\n",
       "      <td>107.406113</td>\n",
       "      <td>27.145832</td>\n",
       "      <td>783133</td>\n",
       "      <td>Eukaryota,Animalia</td>\n",
       "      <td>kingdom</td>\n",
       "      <td>770.5</td>\n",
       "      <td>459.0</td>\n",
       "    </tr>\n",
       "  </tbody>\n",
       "</table>\n",
       "</div>"
      ],
      "text/plain": [
       "         occurrence_no           accepted_name   accepted_rank   kingdom  \\\n",
       "150847          879665                Porifera          phylum  Animalia   \n",
       "150848          879668                Porifera          phylum  Animalia   \n",
       "391540          879673                Animalia         kingdom  Animalia   \n",
       "391541          879787                Animalia         kingdom  Animalia   \n",
       "514970          879664                Cnidaria          phylum  Animalia   \n",
       "514971          879667                Cnidaria          phylum  Animalia   \n",
       "528059          129642                  Nimbia           genus  Animalia   \n",
       "537506         1157799              Bavlinella           genus  Animalia   \n",
       "537507         1157804              Bavlinella           genus  Animalia   \n",
       "537508         1157807              Bavlinella           genus  Animalia   \n",
       "566461          129641             Medusinites           genus  Animalia   \n",
       "569029          128398  Papillomembrana compta         species  Animalia   \n",
       "1132753         879663               Eumetazoa  unranked clade  Animalia   \n",
       "1132754         879666               Eumetazoa  unranked clade  Animalia   \n",
       "\n",
       "               phylum class order family            genus  max_ma  min_ma  \\\n",
       "150847       Porifera   NaN   NaN    NaN              NaN  1000.0   541.0   \n",
       "150848       Porifera   NaN   NaN    NaN              NaN  1000.0   541.0   \n",
       "391540            NaN   NaN   NaN    NaN              NaN  1000.0   541.0   \n",
       "391541            NaN   NaN   NaN    NaN              NaN  1000.0   541.0   \n",
       "514970       Cnidaria   NaN   NaN    NaN              NaN  1000.0   541.0   \n",
       "514971       Cnidaria   NaN   NaN    NaN              NaN  1000.0   541.0   \n",
       "528059   Problematica   NaN   NaN    NaN           Nimbia  1000.0   541.0   \n",
       "537506   Problematica   NaN   NaN    NaN       Bavlinella  1000.0   541.0   \n",
       "537507   Problematica   NaN   NaN    NaN       Bavlinella  1000.0   541.0   \n",
       "537508   Problematica   NaN   NaN    NaN       Bavlinella  1000.0   541.0   \n",
       "566461   Problematica   NaN   NaN    NaN      Medusinites  1000.0   541.0   \n",
       "569029   Problematica   NaN   NaN    NaN  Papillomembrana  1000.0   541.0   \n",
       "1132753           NaN   NaN   NaN    NaN              NaN  1000.0   541.0   \n",
       "1132754           NaN   NaN   NaN    NaN              NaN  1000.0   541.0   \n",
       "\n",
       "                lng        lat   index                   path_from_root  \\\n",
       "150847   107.406113  27.145832  107870      Eukaryota,Animalia,Porifera   \n",
       "150848   107.406113  27.145832  107870      Eukaryota,Animalia,Porifera   \n",
       "391540   138.573883 -31.558889  132185               Eukaryota,Animalia   \n",
       "391541   138.000000 -31.000000  132185               Eukaryota,Animalia   \n",
       "514970   107.406113  27.145832  183715      Eukaryota,Animalia,Cnidaria   \n",
       "514971   107.406113  27.145832  183715      Eukaryota,Animalia,Cnidaria   \n",
       "528059    -4.250000  26.000000  194549  Eukaryota,Animalia,Problematica   \n",
       "537506    18.333332  78.949997  200529  Eukaryota,Animalia,Problematica   \n",
       "537507    17.500000  79.183334  200529  Eukaryota,Animalia,Problematica   \n",
       "537508    17.866667  78.816666  200529  Eukaryota,Animalia,Problematica   \n",
       "566461    -4.250000  26.000000  222251  Eukaryota,Animalia,Problematica   \n",
       "569029    11.150000  60.783333  224300  Eukaryota,Animalia,Problematica   \n",
       "1132753  107.406113  27.145832  783133               Eukaryota,Animalia   \n",
       "1132754  107.406113  27.145832  783133               Eukaryota,Animalia   \n",
       "\n",
       "            rank  middle_ma   span  \n",
       "150847    phylum      770.5  459.0  \n",
       "150848    phylum      770.5  459.0  \n",
       "391540   kingdom      770.5  459.0  \n",
       "391541   kingdom      770.5  459.0  \n",
       "514970    phylum      770.5  459.0  \n",
       "514971    phylum      770.5  459.0  \n",
       "528059    phylum      770.5  459.0  \n",
       "537506    phylum      770.5  459.0  \n",
       "537507    phylum      770.5  459.0  \n",
       "537508    phylum      770.5  459.0  \n",
       "566461    phylum      770.5  459.0  \n",
       "569029    phylum      770.5  459.0  \n",
       "1132753  kingdom      770.5  459.0  \n",
       "1132754  kingdom      770.5  459.0  "
      ]
     },
     "execution_count": 273,
     "metadata": {},
     "output_type": "execute_result"
    }
   ],
   "source": [
    "# the oldest fossils\n",
    "data[data[\"max_ma\"]==data[\"max_ma\"].max()]"
   ]
  },
  {
   "cell_type": "code",
   "execution_count": 277,
   "id": "089dc3ab",
   "metadata": {},
   "outputs": [
    {
     "data": {
      "text/plain": [
       "0.508460612723977"
      ]
     },
     "execution_count": 277,
     "metadata": {},
     "output_type": "execute_result"
    }
   ],
   "source": [
    "# proportion of fossils in the recent time\n",
    "data[data[\"middle_ma\"]<160].shape[0]/data.shape[0]"
   ]
  },
  {
   "cell_type": "code",
   "execution_count": 278,
   "id": "51828a95",
   "metadata": {},
   "outputs": [
    {
     "data": {
      "text/html": [
       "<div>\n",
       "<style scoped>\n",
       "    .dataframe tbody tr th:only-of-type {\n",
       "        vertical-align: middle;\n",
       "    }\n",
       "\n",
       "    .dataframe tbody tr th {\n",
       "        vertical-align: top;\n",
       "    }\n",
       "\n",
       "    .dataframe thead th {\n",
       "        text-align: right;\n",
       "    }\n",
       "</style>\n",
       "<table border=\"1\" class=\"dataframe\">\n",
       "  <thead>\n",
       "    <tr style=\"text-align: right;\">\n",
       "      <th></th>\n",
       "      <th>occurrence_no</th>\n",
       "      <th>accepted_name</th>\n",
       "      <th>accepted_rank</th>\n",
       "      <th>kingdom</th>\n",
       "      <th>phylum</th>\n",
       "      <th>class</th>\n",
       "      <th>order</th>\n",
       "      <th>family</th>\n",
       "      <th>genus</th>\n",
       "      <th>max_ma</th>\n",
       "      <th>min_ma</th>\n",
       "      <th>lng</th>\n",
       "      <th>lat</th>\n",
       "      <th>index</th>\n",
       "      <th>path_from_root</th>\n",
       "      <th>rank</th>\n",
       "      <th>middle_ma</th>\n",
       "      <th>span</th>\n",
       "    </tr>\n",
       "  </thead>\n",
       "  <tbody>\n",
       "    <tr>\n",
       "      <th>2164</th>\n",
       "      <td>1195550</td>\n",
       "      <td>Lepidodendron</td>\n",
       "      <td>genus</td>\n",
       "      <td>Plantae</td>\n",
       "      <td>NaN</td>\n",
       "      <td>NaN</td>\n",
       "      <td>NaN</td>\n",
       "      <td>Lepidodendraceae</td>\n",
       "      <td>Lepidodendron</td>\n",
       "      <td>314.6</td>\n",
       "      <td>314.6</td>\n",
       "      <td>3.561667</td>\n",
       "      <td>50.405277</td>\n",
       "      <td>141</td>\n",
       "      <td>Eukaryota,Plantae</td>\n",
       "      <td>kingdom</td>\n",
       "      <td>314.6</td>\n",
       "      <td>0.0</td>\n",
       "    </tr>\n",
       "    <tr>\n",
       "      <th>7990</th>\n",
       "      <td>1210067</td>\n",
       "      <td>Pteridophyta</td>\n",
       "      <td>phylum</td>\n",
       "      <td>Plantae</td>\n",
       "      <td>Pteridophyta</td>\n",
       "      <td>NaN</td>\n",
       "      <td>NaN</td>\n",
       "      <td>NaN</td>\n",
       "      <td>NaN</td>\n",
       "      <td>314.6</td>\n",
       "      <td>314.6</td>\n",
       "      <td>7.135500</td>\n",
       "      <td>51.667999</td>\n",
       "      <td>622</td>\n",
       "      <td>Eukaryota,Plantae,Pteridophyta</td>\n",
       "      <td>phylum</td>\n",
       "      <td>314.6</td>\n",
       "      <td>0.0</td>\n",
       "    </tr>\n",
       "    <tr>\n",
       "      <th>9359</th>\n",
       "      <td>602301</td>\n",
       "      <td>Granulatisporites</td>\n",
       "      <td>genus</td>\n",
       "      <td>Plantae</td>\n",
       "      <td>Pteridophyta</td>\n",
       "      <td>Pteridopsida</td>\n",
       "      <td>NaN</td>\n",
       "      <td>NaN</td>\n",
       "      <td>Granulatisporites</td>\n",
       "      <td>314.6</td>\n",
       "      <td>314.6</td>\n",
       "      <td>-86.650002</td>\n",
       "      <td>38.560001</td>\n",
       "      <td>686</td>\n",
       "      <td>Eukaryota,Plantae,Pteridophyta,Pteridopsida</td>\n",
       "      <td>class</td>\n",
       "      <td>314.6</td>\n",
       "      <td>0.0</td>\n",
       "    </tr>\n",
       "    <tr>\n",
       "      <th>9360</th>\n",
       "      <td>602302</td>\n",
       "      <td>Granulatisporites</td>\n",
       "      <td>genus</td>\n",
       "      <td>Plantae</td>\n",
       "      <td>Pteridophyta</td>\n",
       "      <td>Pteridopsida</td>\n",
       "      <td>NaN</td>\n",
       "      <td>NaN</td>\n",
       "      <td>Granulatisporites</td>\n",
       "      <td>314.6</td>\n",
       "      <td>314.6</td>\n",
       "      <td>-86.650002</td>\n",
       "      <td>38.560001</td>\n",
       "      <td>686</td>\n",
       "      <td>Eukaryota,Plantae,Pteridophyta,Pteridopsida</td>\n",
       "      <td>class</td>\n",
       "      <td>314.6</td>\n",
       "      <td>0.0</td>\n",
       "    </tr>\n",
       "    <tr>\n",
       "      <th>9594</th>\n",
       "      <td>602303</td>\n",
       "      <td>Cyclogranisporites</td>\n",
       "      <td>genus</td>\n",
       "      <td>Plantae</td>\n",
       "      <td>NaN</td>\n",
       "      <td>NaN</td>\n",
       "      <td>NaN</td>\n",
       "      <td>NaN</td>\n",
       "      <td>Cyclogranisporites</td>\n",
       "      <td>314.6</td>\n",
       "      <td>314.6</td>\n",
       "      <td>-86.650002</td>\n",
       "      <td>38.560001</td>\n",
       "      <td>687</td>\n",
       "      <td>Eukaryota,Plantae</td>\n",
       "      <td>kingdom</td>\n",
       "      <td>314.6</td>\n",
       "      <td>0.0</td>\n",
       "    </tr>\n",
       "    <tr>\n",
       "      <th>...</th>\n",
       "      <td>...</td>\n",
       "      <td>...</td>\n",
       "      <td>...</td>\n",
       "      <td>...</td>\n",
       "      <td>...</td>\n",
       "      <td>...</td>\n",
       "      <td>...</td>\n",
       "      <td>...</td>\n",
       "      <td>...</td>\n",
       "      <td>...</td>\n",
       "      <td>...</td>\n",
       "      <td>...</td>\n",
       "      <td>...</td>\n",
       "      <td>...</td>\n",
       "      <td>...</td>\n",
       "      <td>...</td>\n",
       "      <td>...</td>\n",
       "      <td>...</td>\n",
       "    </tr>\n",
       "    <tr>\n",
       "      <th>1341338</th>\n",
       "      <td>1540045</td>\n",
       "      <td>Belinurus concinnus</td>\n",
       "      <td>species</td>\n",
       "      <td>Animalia</td>\n",
       "      <td>Arthropoda</td>\n",
       "      <td>Xiphosura</td>\n",
       "      <td>Xiphosurida</td>\n",
       "      <td>Belinuridae</td>\n",
       "      <td>Belinurus</td>\n",
       "      <td>314.6</td>\n",
       "      <td>314.6</td>\n",
       "      <td>-3.760000</td>\n",
       "      <td>51.770000</td>\n",
       "      <td>1328328</td>\n",
       "      <td>Eukaryota,Animalia,Arthropoda,Xiphosura,Xiphos...</td>\n",
       "      <td>species</td>\n",
       "      <td>314.6</td>\n",
       "      <td>0.0</td>\n",
       "    </tr>\n",
       "    <tr>\n",
       "      <th>1341339</th>\n",
       "      <td>1540046</td>\n",
       "      <td>Belinurus carwayensis</td>\n",
       "      <td>species</td>\n",
       "      <td>Animalia</td>\n",
       "      <td>Arthropoda</td>\n",
       "      <td>Xiphosura</td>\n",
       "      <td>Xiphosurida</td>\n",
       "      <td>Belinuridae</td>\n",
       "      <td>Belinurus</td>\n",
       "      <td>314.6</td>\n",
       "      <td>314.6</td>\n",
       "      <td>-4.230000</td>\n",
       "      <td>51.740002</td>\n",
       "      <td>1328329</td>\n",
       "      <td>Eukaryota,Animalia,Arthropoda,Xiphosura,Xiphos...</td>\n",
       "      <td>species</td>\n",
       "      <td>314.6</td>\n",
       "      <td>0.0</td>\n",
       "    </tr>\n",
       "    <tr>\n",
       "      <th>1341340</th>\n",
       "      <td>1540048</td>\n",
       "      <td>Belinurus pustulosus</td>\n",
       "      <td>species</td>\n",
       "      <td>Animalia</td>\n",
       "      <td>Arthropoda</td>\n",
       "      <td>Xiphosura</td>\n",
       "      <td>Xiphosurida</td>\n",
       "      <td>Belinuridae</td>\n",
       "      <td>Belinurus</td>\n",
       "      <td>314.6</td>\n",
       "      <td>314.6</td>\n",
       "      <td>-4.230000</td>\n",
       "      <td>51.740002</td>\n",
       "      <td>1328331</td>\n",
       "      <td>Eukaryota,Animalia,Arthropoda,Xiphosura,Xiphos...</td>\n",
       "      <td>species</td>\n",
       "      <td>314.6</td>\n",
       "      <td>0.0</td>\n",
       "    </tr>\n",
       "    <tr>\n",
       "      <th>1341343</th>\n",
       "      <td>1540557</td>\n",
       "      <td>Prestwichianella anthrax</td>\n",
       "      <td>species</td>\n",
       "      <td>Animalia</td>\n",
       "      <td>Arthropoda</td>\n",
       "      <td>Xiphosura</td>\n",
       "      <td>Xiphosurida</td>\n",
       "      <td>Belinuridae</td>\n",
       "      <td>Prestwichianella</td>\n",
       "      <td>314.6</td>\n",
       "      <td>314.6</td>\n",
       "      <td>-2.492000</td>\n",
       "      <td>52.639000</td>\n",
       "      <td>1328352</td>\n",
       "      <td>Eukaryota,Animalia,Arthropoda,Xiphosura,Xiphos...</td>\n",
       "      <td>species</td>\n",
       "      <td>314.6</td>\n",
       "      <td>0.0</td>\n",
       "    </tr>\n",
       "    <tr>\n",
       "      <th>1341516</th>\n",
       "      <td>1541190</td>\n",
       "      <td>Pygocephalus dubius</td>\n",
       "      <td>species</td>\n",
       "      <td>Animalia</td>\n",
       "      <td>Arthropoda</td>\n",
       "      <td>Malacostraca</td>\n",
       "      <td>Mysida</td>\n",
       "      <td>Pygocephalidae</td>\n",
       "      <td>Pygocephalus</td>\n",
       "      <td>314.6</td>\n",
       "      <td>314.6</td>\n",
       "      <td>-2.492000</td>\n",
       "      <td>52.639000</td>\n",
       "      <td>1329141</td>\n",
       "      <td>Eukaryota,Animalia,Arthropoda,Malacostraca,Mys...</td>\n",
       "      <td>species</td>\n",
       "      <td>314.6</td>\n",
       "      <td>0.0</td>\n",
       "    </tr>\n",
       "  </tbody>\n",
       "</table>\n",
       "<p>444 rows × 18 columns</p>\n",
       "</div>"
      ],
      "text/plain": [
       "         occurrence_no             accepted_name accepted_rank   kingdom  \\\n",
       "2164           1195550             Lepidodendron         genus   Plantae   \n",
       "7990           1210067              Pteridophyta        phylum   Plantae   \n",
       "9359            602301         Granulatisporites         genus   Plantae   \n",
       "9360            602302         Granulatisporites         genus   Plantae   \n",
       "9594            602303        Cyclogranisporites         genus   Plantae   \n",
       "...                ...                       ...           ...       ...   \n",
       "1341338        1540045       Belinurus concinnus       species  Animalia   \n",
       "1341339        1540046     Belinurus carwayensis       species  Animalia   \n",
       "1341340        1540048      Belinurus pustulosus       species  Animalia   \n",
       "1341343        1540557  Prestwichianella anthrax       species  Animalia   \n",
       "1341516        1541190       Pygocephalus dubius       species  Animalia   \n",
       "\n",
       "               phylum         class        order            family  \\\n",
       "2164              NaN           NaN          NaN  Lepidodendraceae   \n",
       "7990     Pteridophyta           NaN          NaN               NaN   \n",
       "9359     Pteridophyta  Pteridopsida          NaN               NaN   \n",
       "9360     Pteridophyta  Pteridopsida          NaN               NaN   \n",
       "9594              NaN           NaN          NaN               NaN   \n",
       "...               ...           ...          ...               ...   \n",
       "1341338    Arthropoda     Xiphosura  Xiphosurida       Belinuridae   \n",
       "1341339    Arthropoda     Xiphosura  Xiphosurida       Belinuridae   \n",
       "1341340    Arthropoda     Xiphosura  Xiphosurida       Belinuridae   \n",
       "1341343    Arthropoda     Xiphosura  Xiphosurida       Belinuridae   \n",
       "1341516    Arthropoda  Malacostraca       Mysida    Pygocephalidae   \n",
       "\n",
       "                      genus  max_ma  min_ma        lng        lat    index  \\\n",
       "2164          Lepidodendron   314.6   314.6   3.561667  50.405277      141   \n",
       "7990                    NaN   314.6   314.6   7.135500  51.667999      622   \n",
       "9359      Granulatisporites   314.6   314.6 -86.650002  38.560001      686   \n",
       "9360      Granulatisporites   314.6   314.6 -86.650002  38.560001      686   \n",
       "9594     Cyclogranisporites   314.6   314.6 -86.650002  38.560001      687   \n",
       "...                     ...     ...     ...        ...        ...      ...   \n",
       "1341338           Belinurus   314.6   314.6  -3.760000  51.770000  1328328   \n",
       "1341339           Belinurus   314.6   314.6  -4.230000  51.740002  1328329   \n",
       "1341340           Belinurus   314.6   314.6  -4.230000  51.740002  1328331   \n",
       "1341343    Prestwichianella   314.6   314.6  -2.492000  52.639000  1328352   \n",
       "1341516        Pygocephalus   314.6   314.6  -2.492000  52.639000  1329141   \n",
       "\n",
       "                                            path_from_root     rank  \\\n",
       "2164                                     Eukaryota,Plantae  kingdom   \n",
       "7990                        Eukaryota,Plantae,Pteridophyta   phylum   \n",
       "9359           Eukaryota,Plantae,Pteridophyta,Pteridopsida    class   \n",
       "9360           Eukaryota,Plantae,Pteridophyta,Pteridopsida    class   \n",
       "9594                                     Eukaryota,Plantae  kingdom   \n",
       "...                                                    ...      ...   \n",
       "1341338  Eukaryota,Animalia,Arthropoda,Xiphosura,Xiphos...  species   \n",
       "1341339  Eukaryota,Animalia,Arthropoda,Xiphosura,Xiphos...  species   \n",
       "1341340  Eukaryota,Animalia,Arthropoda,Xiphosura,Xiphos...  species   \n",
       "1341343  Eukaryota,Animalia,Arthropoda,Xiphosura,Xiphos...  species   \n",
       "1341516  Eukaryota,Animalia,Arthropoda,Malacostraca,Mys...  species   \n",
       "\n",
       "         middle_ma  span  \n",
       "2164         314.6   0.0  \n",
       "7990         314.6   0.0  \n",
       "9359         314.6   0.0  \n",
       "9360         314.6   0.0  \n",
       "9594         314.6   0.0  \n",
       "...            ...   ...  \n",
       "1341338      314.6   0.0  \n",
       "1341339      314.6   0.0  \n",
       "1341340      314.6   0.0  \n",
       "1341343      314.6   0.0  \n",
       "1341516      314.6   0.0  \n",
       "\n",
       "[444 rows x 18 columns]"
      ]
     },
     "execution_count": 278,
     "metadata": {},
     "output_type": "execute_result"
    }
   ],
   "source": [
    "# number of fossils having a precise time\n",
    "data[data[\"max_ma\"]==data[\"min_ma\"]]"
   ]
  }
 ],
 "metadata": {
  "kernelspec": {
   "display_name": "Python 3",
   "language": "python",
   "name": "python3"
  },
  "language_info": {
   "codemirror_mode": {
    "name": "ipython",
    "version": 3
   },
   "file_extension": ".py",
   "mimetype": "text/x-python",
   "name": "python",
   "nbconvert_exporter": "python",
   "pygments_lexer": "ipython3",
   "version": "3.8.5"
  }
 },
 "nbformat": 4,
 "nbformat_minor": 5
}
