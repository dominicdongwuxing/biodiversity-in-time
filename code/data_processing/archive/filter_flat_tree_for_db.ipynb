{
 "cells": [
  {
   "cell_type": "code",
   "execution_count": 1,
   "id": "38ac99c4",
   "metadata": {},
   "outputs": [],
   "source": [
    "import pandas as pd\n",
    "import os\n",
    "import json\n",
    "import requests\n",
    "import pickle as pkl\n",
    "import matplotlib.pyplot as plt\n",
    "import numpy as np\n",
    "\n",
    "DATADIR = \"../../dataset\"\n",
    "WIKIDIR = DATADIR + \"/wikidata/processed\"\n",
    "PBDBDIR = DATADIR + \"/pbdb\""
   ]
  },
  {
   "cell_type": "code",
   "execution_count": 11,
   "id": "c069ea1f",
   "metadata": {},
   "outputs": [],
   "source": [
    "# load the flat tree for db \n",
    "with open(os.path.join(WIKIDIR, \"flat_tree_for_db.json\"),\"rb\") as f:\n",
    "    flat_tree_for_db = json.load(f)"
   ]
  },
  {
   "cell_type": "code",
   "execution_count": 5,
   "id": "03303220",
   "metadata": {},
   "outputs": [],
   "source": [
    "wiki = pd.read_csv(os.path.join(WIKIDIR,\"data.csv\"), index_col = \"id\")"
   ]
  },
  {
   "cell_type": "code",
   "execution_count": 12,
   "id": "0b809f56",
   "metadata": {},
   "outputs": [],
   "source": [
    "flat_tree_for_db = pd.DataFrame(flat_tree_for_db)"
   ]
  },
  {
   "cell_type": "code",
   "execution_count": 13,
   "id": "de06fdc8",
   "metadata": {},
   "outputs": [
    {
     "data": {
      "text/html": [
       "<div>\n",
       "<style scoped>\n",
       "    .dataframe tbody tr th:only-of-type {\n",
       "        vertical-align: middle;\n",
       "    }\n",
       "\n",
       "    .dataframe tbody tr th {\n",
       "        vertical-align: top;\n",
       "    }\n",
       "\n",
       "    .dataframe thead th {\n",
       "        text-align: right;\n",
       "    }\n",
       "</style>\n",
       "<table border=\"1\" class=\"dataframe\">\n",
       "  <thead>\n",
       "    <tr style=\"text-align: right;\">\n",
       "      <th></th>\n",
       "      <th>name</th>\n",
       "      <th>rank</th>\n",
       "      <th>id</th>\n",
       "      <th>pathFromRootById</th>\n",
       "      <th>pathFromRootByName</th>\n",
       "    </tr>\n",
       "  </thead>\n",
       "  <tbody>\n",
       "    <tr>\n",
       "      <th>0</th>\n",
       "      <td>Biota</td>\n",
       "      <td>Q22666877</td>\n",
       "      <td>Q2382443</td>\n",
       "      <td>,Q2382443</td>\n",
       "      <td>,Biota</td>\n",
       "    </tr>\n",
       "    <tr>\n",
       "      <th>1</th>\n",
       "      <td>Neomura</td>\n",
       "      <td></td>\n",
       "      <td>Q1950208</td>\n",
       "      <td>,Q2382443,Q1950208</td>\n",
       "      <td>,Biota,Neomura</td>\n",
       "    </tr>\n",
       "    <tr>\n",
       "      <th>2</th>\n",
       "      <td>Contophora</td>\n",
       "      <td>Q19858692</td>\n",
       "      <td>Q28920818</td>\n",
       "      <td>,Q2382443,Q28920818</td>\n",
       "      <td>,Biota,Contophora</td>\n",
       "    </tr>\n",
       "    <tr>\n",
       "      <th>3</th>\n",
       "      <td>Flagelloopalinida</td>\n",
       "      <td>Q36732</td>\n",
       "      <td>Q23832644</td>\n",
       "      <td>,Q2382443,Q28920818,Q23832644</td>\n",
       "      <td>,Biota,Contophora,Flagelloopalinida</td>\n",
       "    </tr>\n",
       "    <tr>\n",
       "      <th>4</th>\n",
       "      <td>Protomonada</td>\n",
       "      <td>Q38348</td>\n",
       "      <td>Q21446765</td>\n",
       "      <td>,Q2382443,Q28920818,Q23832644,Q21446765</td>\n",
       "      <td>,Biota,Contophora,Flagelloopalinida,Protomonada</td>\n",
       "    </tr>\n",
       "  </tbody>\n",
       "</table>\n",
       "</div>"
      ],
      "text/plain": [
       "                name       rank         id  \\\n",
       "0              Biota  Q22666877   Q2382443   \n",
       "1            Neomura              Q1950208   \n",
       "2         Contophora  Q19858692  Q28920818   \n",
       "3  Flagelloopalinida     Q36732  Q23832644   \n",
       "4        Protomonada     Q38348  Q21446765   \n",
       "\n",
       "                          pathFromRootById  \\\n",
       "0                                ,Q2382443   \n",
       "1                       ,Q2382443,Q1950208   \n",
       "2                      ,Q2382443,Q28920818   \n",
       "3            ,Q2382443,Q28920818,Q23832644   \n",
       "4  ,Q2382443,Q28920818,Q23832644,Q21446765   \n",
       "\n",
       "                                pathFromRootByName  \n",
       "0                                           ,Biota  \n",
       "1                                   ,Biota,Neomura  \n",
       "2                                ,Biota,Contophora  \n",
       "3              ,Biota,Contophora,Flagelloopalinida  \n",
       "4  ,Biota,Contophora,Flagelloopalinida,Protomonada  "
      ]
     },
     "execution_count": 13,
     "metadata": {},
     "output_type": "execute_result"
    }
   ],
   "source": [
    "flat_tree_for_db.head()"
   ]
  },
  {
   "cell_type": "code",
   "execution_count": 2,
   "id": "d57f0ebf",
   "metadata": {},
   "outputs": [],
   "source": [
    "with open(os.path.join(PBDBDIR, \"pbdb.json\"),\"rb\") as f:\n",
    "    pbdb_for_db = json.load(f)"
   ]
  },
  {
   "cell_type": "code",
   "execution_count": 3,
   "id": "34096d20",
   "metadata": {},
   "outputs": [],
   "source": [
    "pbdb_for_db = pd.DataFrame(pbdb_for_db)"
   ]
  },
  {
   "cell_type": "code",
   "execution_count": 4,
   "id": "82d0cff1",
   "metadata": {},
   "outputs": [
    {
     "data": {
      "text/html": [
       "<div>\n",
       "<style scoped>\n",
       "    .dataframe tbody tr th:only-of-type {\n",
       "        vertical-align: middle;\n",
       "    }\n",
       "\n",
       "    .dataframe tbody tr th {\n",
       "        vertical-align: top;\n",
       "    }\n",
       "\n",
       "    .dataframe thead th {\n",
       "        text-align: right;\n",
       "    }\n",
       "</style>\n",
       "<table border=\"1\" class=\"dataframe\">\n",
       "  <thead>\n",
       "    <tr style=\"text-align: right;\">\n",
       "      <th></th>\n",
       "      <th>id</th>\n",
       "      <th>wikiRef</th>\n",
       "      <th>name</th>\n",
       "      <th>rank</th>\n",
       "      <th>minma</th>\n",
       "      <th>maxma</th>\n",
       "      <th>lng</th>\n",
       "      <th>lat</th>\n",
       "    </tr>\n",
       "  </thead>\n",
       "  <tbody>\n",
       "    <tr>\n",
       "      <th>0</th>\n",
       "      <td>3285</td>\n",
       "      <td>Q1498322</td>\n",
       "      <td>Tetradium</td>\n",
       "      <td>genus</td>\n",
       "      <td>449.5</td>\n",
       "      <td>460.9</td>\n",
       "      <td>-75.456108</td>\n",
       "      <td>43.212776</td>\n",
       "    </tr>\n",
       "    <tr>\n",
       "      <th>1</th>\n",
       "      <td>3679</td>\n",
       "      <td>Q1498322</td>\n",
       "      <td>Tetradium</td>\n",
       "      <td>genus</td>\n",
       "      <td>458.4</td>\n",
       "      <td>470.0</td>\n",
       "      <td>-75.456108</td>\n",
       "      <td>43.212776</td>\n",
       "    </tr>\n",
       "    <tr>\n",
       "      <th>2</th>\n",
       "      <td>4409</td>\n",
       "      <td>Q1498322</td>\n",
       "      <td>Tetradium</td>\n",
       "      <td>genus</td>\n",
       "      <td>443.7</td>\n",
       "      <td>449.5</td>\n",
       "      <td>-83.828613</td>\n",
       "      <td>39.445278</td>\n",
       "    </tr>\n",
       "    <tr>\n",
       "      <th>3</th>\n",
       "      <td>4534</td>\n",
       "      <td>Q1498322</td>\n",
       "      <td>Tetradium huronense</td>\n",
       "      <td>species</td>\n",
       "      <td>443.7</td>\n",
       "      <td>449.5</td>\n",
       "      <td>-85.012779</td>\n",
       "      <td>39.423058</td>\n",
       "    </tr>\n",
       "    <tr>\n",
       "      <th>4</th>\n",
       "      <td>5487</td>\n",
       "      <td>Q1498322</td>\n",
       "      <td>Tetradium</td>\n",
       "      <td>genus</td>\n",
       "      <td>443.7</td>\n",
       "      <td>449.5</td>\n",
       "      <td>-84.000000</td>\n",
       "      <td>39.000000</td>\n",
       "    </tr>\n",
       "  </tbody>\n",
       "</table>\n",
       "</div>"
      ],
      "text/plain": [
       "     id   wikiRef                 name     rank  minma  maxma        lng  \\\n",
       "0  3285  Q1498322            Tetradium    genus  449.5  460.9 -75.456108   \n",
       "1  3679  Q1498322            Tetradium    genus  458.4  470.0 -75.456108   \n",
       "2  4409  Q1498322            Tetradium    genus  443.7  449.5 -83.828613   \n",
       "3  4534  Q1498322  Tetradium huronense  species  443.7  449.5 -85.012779   \n",
       "4  5487  Q1498322            Tetradium    genus  443.7  449.5 -84.000000   \n",
       "\n",
       "         lat  \n",
       "0  43.212776  \n",
       "1  43.212776  \n",
       "2  39.445278  \n",
       "3  39.423058  \n",
       "4  39.000000  "
      ]
     },
     "execution_count": 4,
     "metadata": {},
     "output_type": "execute_result"
    }
   ],
   "source": [
    "pbdb_for_db.head()"
   ]
  },
  {
   "cell_type": "code",
   "execution_count": 28,
   "id": "0c42ee68",
   "metadata": {},
   "outputs": [
    {
     "data": {
      "text/plain": [
       "2888360"
      ]
     },
     "execution_count": 28,
     "metadata": {},
     "output_type": "execute_result"
    }
   ],
   "source": [
    "len(flat_tree_for_db.index.tolist())"
   ]
  },
  {
   "cell_type": "code",
   "execution_count": 14,
   "id": "89bf29e6",
   "metadata": {},
   "outputs": [
    {
     "data": {
      "text/plain": [
       "(2891219, 4)"
      ]
     },
     "execution_count": 14,
     "metadata": {},
     "output_type": "execute_result"
    }
   ],
   "source": [
    "wiki.shape"
   ]
  },
  {
   "cell_type": "code",
   "execution_count": 17,
   "id": "aa1ff9a1",
   "metadata": {},
   "outputs": [],
   "source": [
    "flat_tree_for_db.set_index(\"id\",inplace=True)"
   ]
  },
  {
   "cell_type": "code",
   "execution_count": 41,
   "id": "3fca9437",
   "metadata": {},
   "outputs": [],
   "source": [
    "fossil_flat_tree_for_db = flat_tree_for_db.loc[all_valid_wiki_id]"
   ]
  },
  {
   "cell_type": "code",
   "execution_count": 43,
   "id": "5cde1e5a",
   "metadata": {},
   "outputs": [],
   "source": [
    "fossil_flat_tree_for_db[\"id\"] = fossil_flat_tree_for_db.index\n"
   ]
  },
  {
   "cell_type": "code",
   "execution_count": 54,
   "id": "9b048ddb",
   "metadata": {},
   "outputs": [],
   "source": [
    "fossil_flat_tree_for_db_json = fossil_flat_tree_for_db.to_json(orient=\"records\")\n",
    "parsed_fossil_flat_tree_for_db_json = json.loads(fossil_flat_tree_for_db_json)"
   ]
  },
  {
   "cell_type": "code",
   "execution_count": 55,
   "id": "c33152a0",
   "metadata": {},
   "outputs": [],
   "source": [
    "with open(os.path.join(WIKIDIR, \"fossil_flat_tree_for_db.json\"),\"w\") as f:\n",
    "    json.dump(parsed_fossil_flat_tree_for_db_json,f)"
   ]
  }
 ],
 "metadata": {
  "kernelspec": {
   "display_name": "Python 3",
   "language": "python",
   "name": "python3"
  },
  "language_info": {
   "codemirror_mode": {
    "name": "ipython",
    "version": 3
   },
   "file_extension": ".py",
   "mimetype": "text/x-python",
   "name": "python",
   "nbconvert_exporter": "python",
   "pygments_lexer": "ipython3",
   "version": "3.8.5"
  }
 },
 "nbformat": 4,
 "nbformat_minor": 5
}
