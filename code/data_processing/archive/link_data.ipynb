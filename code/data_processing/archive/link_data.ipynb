{
 "cells": [
  {
   "cell_type": "code",
   "execution_count": 17,
   "id": "885db98e",
   "metadata": {},
   "outputs": [],
   "source": [
    "import pandas as pd\n",
    "import os\n",
    "import json\n",
    "import requests\n",
    "import json\n",
    "import matplotlib.pyplot as plt\n",
    "\n",
    "DATADIR = \"../../dataset\"\n"
   ]
  },
  {
   "cell_type": "code",
   "execution_count": 3,
   "id": "6adfc191",
   "metadata": {},
   "outputs": [],
   "source": [
    "# load wikidata and pbdb data\n",
    "wiki, pbdb = pd.read_csv(os.path.join(DATADIR, \"wikidata\",\"processed\",\"data.csv\"), index_col = \"id\"), \\\n",
    "pd.read_csv(os.path.join(DATADIR, \"pbdb\",\"data.csv\"))"
   ]
  },
  {
   "cell_type": "code",
   "execution_count": 4,
   "id": "6ce11dc7",
   "metadata": {},
   "outputs": [],
   "source": [
    "wiki[\"taxon_name\"].fillna(wiki[\"species_name_value\"],inplace=True)"
   ]
  },
  {
   "cell_type": "code",
   "execution_count": 4,
   "id": "fc917780",
   "metadata": {},
   "outputs": [],
   "source": [
    "# get all taxon ranks in wikidata\n",
    "all_ranks = wiki[wiki[\"taxon_rank\"].notna()][\"taxon_rank\"].unique().tolist()"
   ]
  },
  {
   "cell_type": "code",
   "execution_count": 5,
   "id": "2c4e0f1f",
   "metadata": {
    "scrolled": true
   },
   "outputs": [],
   "source": [
    "# get all taxon names in wikidata\n",
    "all_taxon_names = set(wiki[wiki[\"taxon_name\"].notna()][\"taxon_name\"].unique())"
   ]
  },
  {
   "cell_type": "code",
   "execution_count": 6,
   "id": "8305319a",
   "metadata": {},
   "outputs": [],
   "source": [
    "# get all accepted names, phylum names, class names, order names, family names and genus names in pbdb\n",
    "accepted_names, phylums, classes, orders, families, genuses = \\\n",
    "[i for i in pbdb[\"accepted_name\"].unique().tolist() if str(i) != \"nan\"], \\\n",
    "[i for i in pbdb[\"phylum\"].unique().tolist() if str(i) != \"nan\"], \\\n",
    "[i for i in pbdb[\"class\"].unique().tolist() if str(i) != \"nan\"], \\\n",
    "[i for i in pbdb[\"order\"].unique().tolist() if str(i) != \"nan\"], \\\n",
    "[i for i in pbdb[\"family\"].unique().tolist() if str(i) != \"nan\"], \\\n",
    "[i for i in pbdb[\"genus\"].unique().tolist() if str(i) != \"nan\"]\n"
   ]
  },
  {
   "cell_type": "code",
   "execution_count": 7,
   "id": "32290382",
   "metadata": {},
   "outputs": [
    {
     "data": {
      "text/plain": [
       "array(['genus', 'species', 'phylum', 'family', 'subclass', 'kingdom',\n",
       "       'class', 'order', 'subgenus', 'superphylum', 'unranked clade',\n",
       "       'subphylum', 'subfamily', 'tribe', 'subkingdom', 'superfamily',\n",
       "       'superorder', 'subspecies', 'suborder', 'superclass', 'infraclass',\n",
       "       'infraorder', 'subtribe', 'informal'], dtype=object)"
      ]
     },
     "execution_count": 7,
     "metadata": {},
     "output_type": "execute_result"
    }
   ],
   "source": [
    "pbdb[\"accepted_rank\"].unique()"
   ]
  },
  {
   "cell_type": "code",
   "execution_count": 8,
   "id": "ca37e17b",
   "metadata": {},
   "outputs": [
    {
     "name": "stdout",
     "output_type": "stream",
     "text": [
      "accepted names: missing:  132707 , all:  180470\n",
      "phylums: missing:  15 , all:  60\n",
      "classes: missing:  30 , all:  165\n",
      "orders: missing:  182 , all:  1147\n",
      "families: missing:  1270 , all:  8574\n",
      "genuses: missing:  34575 , all:  63779\n"
     ]
    }
   ],
   "source": [
    "# get the missing names (those cannot be found in taxon_names)\n",
    "missing_accepted_names, missing_phylums, missing_classes, missing_orders, missing_families, missing_genuses = \\\n",
    "[name for name in accepted_names if name not in all_taxon_names], \\\n",
    "[name for name in phylums if name not in all_taxon_names], \\\n",
    "[name for name in classes if name not in all_taxon_names], \\\n",
    "[name for name in orders if name not in all_taxon_names], \\\n",
    "[name for name in families if name not in all_taxon_names], \\\n",
    "[name for name in genuses if name not in all_taxon_names]\n",
    "\n",
    "print(\"accepted names: missing: \", len(missing_accepted_names), \", all: \",len(accepted_names))\n",
    "print(\"phylums: missing: \", len(missing_phylums), \", all: \",len(phylums))\n",
    "print(\"classes: missing: \", len(missing_classes), \", all: \",len(classes))\n",
    "print(\"orders: missing: \", len(missing_orders), \", all: \",len(orders))\n",
    "print(\"families: missing: \", len(missing_families), \", all: \",len(families))\n",
    "print(\"genuses: missing: \", len(missing_genuses), \", all: \",len(genuses))"
   ]
  },
  {
   "cell_type": "code",
   "execution_count": 9,
   "id": "c9a845e9",
   "metadata": {},
   "outputs": [],
   "source": [
    "# get pbdb records where there is no match for neither accepted name nor any of the taxon names in all taxon ranks\n",
    "pbdb_no_match = pbdb[(~pbdb[\"accepted_name\"].isin(all_taxon_names)) & (~pbdb[\"phylum\"].isin(all_taxon_names)) & (~pbdb[\"class\"].isin(all_taxon_names)) & (~pbdb[\"order\"].isin(all_taxon_names)) & (~pbdb[\"family\"].isin(all_taxon_names)) & (~pbdb[\"genus\"].isin(all_taxon_names))]"
   ]
  },
  {
   "cell_type": "code",
   "execution_count": 10,
   "id": "19ad5b69",
   "metadata": {},
   "outputs": [
    {
     "data": {
      "text/plain": [
       "(7127, 18)"
      ]
     },
     "execution_count": 10,
     "metadata": {},
     "output_type": "execute_result"
    }
   ],
   "source": [
    "pbdb_no_match.shape"
   ]
  },
  {
   "cell_type": "code",
   "execution_count": 11,
   "id": "6c26cba9",
   "metadata": {},
   "outputs": [],
   "source": [
    "no_match_accepted_names, no_match_phylums, no_match_classes, no_match_orders, no_match_families, no_match_genuses = \\\n",
    "[i for i in pbdb_no_match[\"accepted_name\"].unique().tolist() if str(i) != \"nan\"], \\\n",
    "[i for i in pbdb_no_match[\"phylum\"].unique().tolist() if str(i) != \"nan\"], \\\n",
    "[i for i in pbdb_no_match[\"class\"].unique().tolist() if str(i) != \"nan\"], \\\n",
    "[i for i in pbdb_no_match[\"order\"].unique().tolist() if str(i) != \"nan\"], \\\n",
    "[i for i in pbdb_no_match[\"family\"].unique().tolist() if str(i) != \"nan\"], \\\n",
    "[i for i in pbdb_no_match[\"genus\"].unique().tolist() if str(i) != \"nan\"]"
   ]
  },
  {
   "cell_type": "code",
   "execution_count": 507,
   "id": "bb066f0c",
   "metadata": {},
   "outputs": [],
   "source": [
    "no_match_accpeted_names_split = set()\n",
    "for name_list in [name.split() for name in no_match_accepted_names]:\n",
    "    for a_name in name_list:\n",
    "        no_match_accpeted_names_split.add(a_name)\n",
    "no_match_accpeted_names_split = list(no_match_accpeted_names_split)        "
   ]
  },
  {
   "cell_type": "code",
   "execution_count": 508,
   "id": "775ba4e5",
   "metadata": {},
   "outputs": [],
   "source": [
    "all_no_match_names = set(no_match_accpeted_names_split + no_match_phylums + no_match_classes + no_match_orders + no_match_families + no_match_genuses)"
   ]
  },
  {
   "cell_type": "code",
   "execution_count": 463,
   "id": "b4d5bd80",
   "metadata": {},
   "outputs": [],
   "source": [
    "def query_data(my_query): \n",
    "    return requests.get(f\"https://www.wikidata.org/w/api.php?action=wbsearchentities&search={my_query}&language=en&format=json\").json()[\"search\"]\n",
    "\n",
    "\n",
    "cache = dict()\n",
    "if os.path.isfile(\"../../dataset/wikidata/processed/cache_for_pbdb_names.json\"):\n",
    "        with open(\"../../dataset/wikidata/processed/cache_for_pbdb_names.json\", \"r\") as f:\n",
    "            cache = json.load(f)\n",
    "\n",
    "search_result = dict()\n",
    "for query in all_no_match_names:\n",
    "    if query not in cache:\n",
    "        query_result = query_data(query)\n",
    "        cache[query] = query_result\n",
    "        with open(\"../../dataset/wikidata/processed/cache_for_pbdb_names.json\", \"w\") as f:\n",
    "            json.dump(cache, f)\n",
    "        \n",
    "    else:\n",
    "        query_result = cache[query]\n",
    "    \n",
    "    search_result[query] = query_result\n",
    "\n",
    "effective_names = [name for name in search_result if search_result[name] != []]\n",
    "all_pbdb_ranks = pbdb[\"accepted_rank\"].unique().tolist()\n",
    "for name in effective_names:\n",
    "    results = search_result[name]\n",
    "    meaningful_results = []\n",
    "    for result in results:\n",
    "        try:\n",
    "            if any(rank in result[\"description\"] for rank in all_pbdb_ranks):\n",
    "                meaningful_results.append(result)\n",
    "        except KeyError:\n",
    "            continue\n",
    "    search_result[name] = meaningful_results\n",
    "\n",
    "name_id_dict = {name:search_result[name][0][\"id\"] for name in search_result if len(search_result[name]) == 1} "
   ]
  },
  {
   "cell_type": "code",
   "execution_count": 13,
   "id": "87903889",
   "metadata": {},
   "outputs": [],
   "source": [
    "def get_name_id_dict (wiki):\n",
    "    '''\n",
    "    takes the wiki dataset and build a taxon_name to id code lookup dict \n",
    "    return a dict, where keys are taxon names, values are lists of corresponding id (Q code) \n",
    "    '''\n",
    "    name_id_dict = {}\n",
    "    for idx in wiki.index:\n",
    "        name = wiki.loc[idx,\"taxon_name\"]\n",
    "        if name not in name_id_dict:\n",
    "            name_id_dict[name] = [idx]\n",
    "        else:\n",
    "            name_id_dict[name].append(idx)\n",
    "    return name_id_dict\n",
    "\n",
    "def link_data(pbdb,name_id_lookup):\n",
    "    '''\n",
    "    link the pbdb data with wiki data by appending to pbdb 1, a column \"wiki_ref\"\n",
    "    to the pbdb\n",
    "    where for each entry it contains a list of wiki Q code(s) that \n",
    "    corresponds to the fossil record, if there is no match then the list\n",
    "    is empty, 2, the \n",
    "    the matching priority is:\n",
    "    accepted_name -> genus -> family -> order -> class -> phylum\n",
    "    '''\n",
    "    matching_priorities = [\"accepted_name\", \"genus\",\"family\",\"order\",\"class\",\"phylum\"]\n",
    "    wiki_ref_list, wiki_ref_rank_list, lowest_matched_rank = [], [], []\n",
    "    #pbdb[\"wiki_ref\"], pbdb[\"wiki_ref_rank\"], pbdb[\"lowest_matched_rank\"]=[np.nan]*pbdb.shape[0],[np.nan]*pbdb.shape[0],[np.nan]*pbdb.shape[0]\n",
    "    for i, row in pbdb.iterrows():\n",
    "        if i % 10000 == 0:\n",
    "            print(i)\n",
    "        for testing_rank in matching_priorities:\n",
    "            name = row[testing_rank]\n",
    "            if name in name_id_lookup:\n",
    "                codes = name_id_lookup[name]\n",
    "                ranks = [rank_info[wiki.loc[code][\"taxon_rank\"]] if str(wiki.loc[code][\"taxon_rank\"]) != \"nan\" else \"nan\" for code in codes]\n",
    "                wiki_ref_list.append(\"_\".join(codes)) \n",
    "                wiki_ref_rank_list.append(\"_\".join(ranks)) \n",
    "                if testing_rank == \"accepted_name\":\n",
    "                    lowest_matched_rank.append(row[\"accepted_rank\"]) \n",
    "                else:\n",
    "                    lowest_matched_rank.append(testing_rank) \n",
    "                break\n",
    "        if len(wiki_ref_list) == i:\n",
    "            wiki_ref_list.append(np.nan) \n",
    "            wiki_ref_rank_list.append(np.nan)\n",
    "            lowest_matched_rank.append(np.nan) \n",
    "    pbdb[\"wiki_ref\"], pbdb[\"wiki_ref_rank\"], pbdb[\"lowest_matched_rank\"] = wiki_ref_list, wiki_ref_rank_list, lowest_matched_rank\n",
    "    return pbdb"
   ]
  },
  {
   "cell_type": "code",
   "execution_count": 571,
   "id": "34783725",
   "metadata": {},
   "outputs": [],
   "source": [
    "rank_code_name_lookup = dict()\n",
    "for rank in all_ranks:\n",
    "    result = query_data(rank)\n",
    "    rank_info[rank] = result[0][\"label\"]\n",
    "    if len(result) != 1:\n",
    "        print(rank)"
   ]
  },
  {
   "cell_type": "code",
   "execution_count": null,
   "id": "77be737f",
   "metadata": {},
   "outputs": [],
   "source": [
    "# match pbdb name to wiki Q_code: first match accepted_name, then genus, family, order, class, phylum and kingdom \n",
    "pbdb=link_data(pbdb,name_id_lookup)"
   ]
  },
  {
   "cell_type": "code",
   "execution_count": 685,
   "id": "0d136eee",
   "metadata": {},
   "outputs": [],
   "source": [
    "pbdb.to_csv(\"../../dataset/pbdb/pbdb_linked.csv\",index=False)"
   ]
  },
  {
   "cell_type": "code",
   "execution_count": 2,
   "id": "0817632e",
   "metadata": {},
   "outputs": [],
   "source": [
    "pbdb = pd.read_csv(\"../../dataset/pbdb/pbdb_linked.csv\")"
   ]
  },
  {
   "cell_type": "code",
   "execution_count": 108,
   "id": "c2c07070",
   "metadata": {},
   "outputs": [],
   "source": [
    "# parse the pbdb that are linked to one and only one wiki data entry \n",
    "included_pbdb = pbdb[(pbdb[\"wiki_ref\"].notna()) & (~pbdb[\"wiki_ref\"].str.contains(\"_\", na= False))].rename(columns={'occurrence_no': 'id', \"accepted_name\":\"name\",\"accepted_rank\":\"rank\",\"min_ma\":\"minma\",\"max_ma\":\"maxma\",\"wiki_ref\":\"wikiRef\"})[[\"id\",\"wikiRef\",\"name\",\"rank\",\"minma\",\"maxma\",\"lng\",\"lat\"]].to_json(orient=\"records\")\n",
    "parsed_included_pbdb = json.loads(included_pbdb)\n",
    "\n",
    "with open(\"../../dataset/pbdb/pbdb.json\",\"w\") as f:\n",
    "    json.dump(parsed_included_pbdb,f)"
   ]
  },
  {
   "cell_type": "code",
   "execution_count": 13,
   "id": "9d03f59e",
   "metadata": {},
   "outputs": [
    {
     "data": {
      "text/html": [
       "<div>\n",
       "<style scoped>\n",
       "    .dataframe tbody tr th:only-of-type {\n",
       "        vertical-align: middle;\n",
       "    }\n",
       "\n",
       "    .dataframe tbody tr th {\n",
       "        vertical-align: top;\n",
       "    }\n",
       "\n",
       "    .dataframe thead th {\n",
       "        text-align: right;\n",
       "    }\n",
       "</style>\n",
       "<table border=\"1\" class=\"dataframe\">\n",
       "  <thead>\n",
       "    <tr style=\"text-align: right;\">\n",
       "      <th></th>\n",
       "      <th>min_ma</th>\n",
       "      <th>max_ma</th>\n",
       "    </tr>\n",
       "  </thead>\n",
       "  <tbody>\n",
       "    <tr>\n",
       "      <th>139</th>\n",
       "      <td>541.0</td>\n",
       "      <td>635.0</td>\n",
       "    </tr>\n",
       "    <tr>\n",
       "      <th>142</th>\n",
       "      <td>541.0</td>\n",
       "      <td>635.0</td>\n",
       "    </tr>\n",
       "    <tr>\n",
       "      <th>172</th>\n",
       "      <td>541.0</td>\n",
       "      <td>635.0</td>\n",
       "    </tr>\n",
       "    <tr>\n",
       "      <th>173</th>\n",
       "      <td>541.0</td>\n",
       "      <td>635.0</td>\n",
       "    </tr>\n",
       "    <tr>\n",
       "      <th>454</th>\n",
       "      <td>541.0</td>\n",
       "      <td>635.0</td>\n",
       "    </tr>\n",
       "    <tr>\n",
       "      <th>...</th>\n",
       "      <td>...</td>\n",
       "      <td>...</td>\n",
       "    </tr>\n",
       "    <tr>\n",
       "      <th>1326099</th>\n",
       "      <td>541.0</td>\n",
       "      <td>635.0</td>\n",
       "    </tr>\n",
       "    <tr>\n",
       "      <th>1329710</th>\n",
       "      <td>541.0</td>\n",
       "      <td>635.0</td>\n",
       "    </tr>\n",
       "    <tr>\n",
       "      <th>1329711</th>\n",
       "      <td>541.0</td>\n",
       "      <td>635.0</td>\n",
       "    </tr>\n",
       "    <tr>\n",
       "      <th>1340374</th>\n",
       "      <td>541.0</td>\n",
       "      <td>635.0</td>\n",
       "    </tr>\n",
       "    <tr>\n",
       "      <th>1340375</th>\n",
       "      <td>541.0</td>\n",
       "      <td>635.0</td>\n",
       "    </tr>\n",
       "  </tbody>\n",
       "</table>\n",
       "<p>714 rows × 2 columns</p>\n",
       "</div>"
      ],
      "text/plain": [
       "         min_ma  max_ma\n",
       "139       541.0   635.0\n",
       "142       541.0   635.0\n",
       "172       541.0   635.0\n",
       "173       541.0   635.0\n",
       "454       541.0   635.0\n",
       "...         ...     ...\n",
       "1326099   541.0   635.0\n",
       "1329710   541.0   635.0\n",
       "1329711   541.0   635.0\n",
       "1340374   541.0   635.0\n",
       "1340375   541.0   635.0\n",
       "\n",
       "[714 rows x 2 columns]"
      ]
     },
     "execution_count": 13,
     "metadata": {},
     "output_type": "execute_result"
    }
   ],
   "source": [
    "pbdb[pbdb[\"max_ma\"]==635]"
   ]
  },
  {
   "cell_type": "code",
   "execution_count": 25,
   "id": "d39ce781",
   "metadata": {},
   "outputs": [],
   "source": [
    "fossil_distribution_over_mya = [pbdb[[\"min_ma\",\"max_ma\"]][(pbdb[\"min_ma\"] <= yr) & (pbdb[\"max_ma\"] > yr)].shape[0] for yr in range(1000)] \n",
    "    "
   ]
  },
  {
   "cell_type": "code",
   "execution_count": 32,
   "id": "f1da911a",
   "metadata": {},
   "outputs": [
    {
     "data": {
      "text/plain": [
       "Text(0.5, 1.0, 'distribution of fossils over mya')"
      ]
     },
     "execution_count": 32,
     "metadata": {},
     "output_type": "execute_result"
    },
    {
     "data": {
      "image/png": "[encoded data removed]",
      "text/plain": [
       "<Figure size 432x288 with 1 Axes>"
      ]
     },
     "metadata": {
      "needs_background": "light"
     },
     "output_type": "display_data"
    }
   ],
   "source": [
    "plt.bar(range(1000),fossil_distribution_over_mya)\n",
    "plt.xlabel(\"mya\")\n",
    "plt.ylabel(\"number of fossils\")\n",
    "plt.title(\"distribution of fossils over mya\")"
   ]
  },
  {
   "cell_type": "code",
   "execution_count": 16,
   "id": "05f75eaf",
   "metadata": {},
   "outputs": [],
   "source": [
    "name_id_lookup = get_name_id_dict(wiki)"
   ]
  },
  {
   "cell_type": "code",
   "execution_count": null,
   "id": "bdc5fc78",
   "metadata": {},
   "outputs": [],
   "source": []
  }
 ],
 "metadata": {
  "kernelspec": {
   "display_name": "Python 3",
   "language": "python",
   "name": "python3"
  },
  "language_info": {
   "codemirror_mode": {
    "name": "ipython",
    "version": 3
   },
   "file_extension": ".py",
   "mimetype": "text/x-python",
   "name": "python",
   "nbconvert_exporter": "python",
   "pygments_lexer": "ipython3",
   "version": "3.8.5"
  }
 },
 "nbformat": 4,
 "nbformat_minor": 5
}
