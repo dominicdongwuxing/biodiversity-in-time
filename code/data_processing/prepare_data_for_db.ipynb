{
 "cells": [
  {
   "cell_type": "code",
   "execution_count": 2,
   "id": "e81592a7",
   "metadata": {},
   "outputs": [],
   "source": [
    "import pandas as pd\n",
    "import os\n",
    "import json\n",
    "import requests\n",
    "import pickle as pkl\n",
    "import matplotlib.pyplot as plt\n",
    "import numpy as np\n",
    "\n",
    "DATADIR = \"../../dataset\"\n",
    "WIKIDIR = DATADIR + \"/wikidata/processed\"\n",
    "PBDBDIR = DATADIR + \"/pbdb\""
   ]
  },
  {
   "cell_type": "code",
   "execution_count": 70,
   "id": "9fd38aae",
   "metadata": {},
   "outputs": [],
   "source": [
    "def get_flat_tree_from_tree(tree):\n",
    "    '''\n",
    "    input a nested tree and output all full and incomplete \n",
    "    branches of the tree.\n",
    "    return: a list where each element is a dictionary, where\n",
    "    there is name, rank, id of each node/leave and path to root.\n",
    "    '''\n",
    "    def visit_nodes (root_child, path_from_root_id, path_from_root_name,path_from_root_rank):\n",
    "        '''\n",
    "        input a root (root_child) and recursively append information\n",
    "        of each of its downstream nodes and leaves to the list, branches.\n",
    "        '''\n",
    "        path_from_root_id += \",\" + root_child[\"id\"]\n",
    "        path_from_root_name += \",\" + root_child[\"name\"]\n",
    "        path_from_root_rank += \",\" + root_child[\"rank\"]\n",
    "        children = []\n",
    "        if \"children\" in root_child.keys():\n",
    "            for child in root_child[\"children\"]:\n",
    "                children.append(child[\"id\"])\n",
    "        branches.append({\"name\": root_child[\"name\"], \"rank\": root_child[\"rank\"], \"id\": root_child[\"id\"], \\\n",
    "                         \"pathFromRootById\": path_from_root_id, \\\n",
    "                         \"pathFromRootByName\": path_from_root_name, \\\n",
    "                         \"pathFromRootByRank\": path_from_root_rank, \\\n",
    "                         \"children\": children})\n",
    "        if \"children\" in root_child.keys():\n",
    "            for child in root_child[\"children\"]:\n",
    "                visit_nodes(child, path_from_root_id, path_from_root_name, path_from_root_rank)\n",
    "        \n",
    "    branches = []\n",
    "    visit_nodes(tree, \"\",\"\",\"\")\n",
    "    return branches\n",
    "\n",
    "def json_splitter(document, splits, DIR, folder_name):\n",
    "    '''\n",
    "    take a long json file (dictionary) and split it into \"splits\" parts\n",
    "    and save into the folder under \"folder_name\"\n",
    "    '''\n",
    "    idx = 0\n",
    "    for i in range(0,len(document),len(document)//(splits - 1)):\n",
    "        idx += 1\n",
    "        if idx < splits:\n",
    "            temp = document[i:i+len(document)//(splits - 1)]\n",
    "        else:\n",
    "            temp = document[i:]\n",
    "        with open(os.path.join(DIR, folder_name, folder_name + \"_\" + str(idx) + \".json\"),\"w\") as f:\n",
    "            json.dump(temp,f)\n",
    "    "
   ]
  },
  {
   "cell_type": "code",
   "execution_count": 71,
   "id": "fb06f6bc",
   "metadata": {},
   "outputs": [
    {
     "data": {
      "text/plain": [
       "[{'name': 'Devia',\n",
       "  'rank': '',\n",
       "  'id': 'Q27973466',\n",
       "  'pathFromRootById': ',Q27973466',\n",
       "  'pathFromRootByName': ',Devia',\n",
       "  'pathFromRootByRank': ',',\n",
       "  'children': ['Q11965580', 'Q14882376']},\n",
       " {'name': 'Devia prospera',\n",
       "  'rank': 'Q7432',\n",
       "  'id': 'Q11965580',\n",
       "  'pathFromRootById': ',Q27973466,Q11965580',\n",
       "  'pathFromRootByName': ',Devia,Devia prospera',\n",
       "  'pathFromRootByRank': ',,Q7432',\n",
       "  'children': []},\n",
       " {'name': 'Devia congruens',\n",
       "  'rank': 'Q7432',\n",
       "  'id': 'Q14882376',\n",
       "  'pathFromRootById': ',Q27973466,Q14882376',\n",
       "  'pathFromRootByName': ',Devia,Devia congruens',\n",
       "  'pathFromRootByRank': ',,Q7432',\n",
       "  'children': []}]"
      ]
     },
     "execution_count": 71,
     "metadata": {},
     "output_type": "execute_result"
    }
   ],
   "source": [
    "with open(os.path.join(WIKIDIR, \"dangling_trees\",\"Q27973466.json\"),\"rb\") as f:\n",
    "    test_tree = json.load(f)\n",
    "get_flat_tree_from_tree(test_tree)"
   ]
  },
  {
   "cell_type": "code",
   "execution_count": 72,
   "id": "7e3c1b7f",
   "metadata": {},
   "outputs": [],
   "source": [
    "# load tree from biota\n",
    "with open(os.path.join(WIKIDIR, \"tree.json\"),\"rb\") as f:\n",
    "    tree_from_biota = json.load(f)"
   ]
  },
  {
   "cell_type": "code",
   "execution_count": 73,
   "id": "4d6b5d40",
   "metadata": {},
   "outputs": [],
   "source": [
    "# compute flat tree for db\n",
    "tree_for_db = get_flat_tree_from_tree(tree_from_biota)"
   ]
  },
  {
   "cell_type": "code",
   "execution_count": 74,
   "id": "ee0a39b0",
   "metadata": {},
   "outputs": [],
   "source": [
    "del tree_from_biota"
   ]
  },
  {
   "cell_type": "code",
   "execution_count": 11,
   "id": "c39691a8",
   "metadata": {},
   "outputs": [],
   "source": [
    "# load linked pbdb fossils \n",
    "with open(os.path.join(PBDBDIR, \"pbdb.json\"),\"rb\") as f:\n",
    "    pbdb = json.load(f)"
   ]
  },
  {
   "cell_type": "code",
   "execution_count": 12,
   "id": "b216953b",
   "metadata": {},
   "outputs": [],
   "source": [
    "pbdb = pd.DataFrame(pbdb)"
   ]
  },
  {
   "cell_type": "code",
   "execution_count": 13,
   "id": "187d1141",
   "metadata": {},
   "outputs": [],
   "source": [
    "all_wikiRef = pbdb[\"wikiRef\"].unique().tolist()"
   ]
  },
  {
   "cell_type": "code",
   "execution_count": 14,
   "id": "e3890e9b",
   "metadata": {},
   "outputs": [],
   "source": [
    "all_biota_wiki = [item[\"id\"] for item in tree_for_db]"
   ]
  },
  {
   "cell_type": "code",
   "execution_count": 58,
   "id": "0c8e45b8",
   "metadata": {
    "scrolled": false
   },
   "outputs": [
    {
     "data": {
      "text/plain": [
       "[]"
      ]
     },
     "execution_count": 58,
     "metadata": {},
     "output_type": "execute_result"
    }
   ],
   "source": [
    "# note that some tree_for_db has multiple ids and ranks for the same taxon name,\n",
    "# however there are no wikiRefs involved in those multiple ids\n",
    "repeat_ids = set([item for ids in tree_for_db_pd[tree_for_db_pd[\"id\"].str.contains(\"_\")][\"id\"].tolist() for item in ids.split(\"_\")])\n",
    "\n",
    "wikiRef_in_repeat_ids = []\n",
    "for wikiRef in all_wikiRef:\n",
    "    if wikiRef in repeat_ids:\n",
    "        wikiRef_in_repeat_ids.append(wikiRef)\n",
    "\n",
    "print(wikiRef_in_repeat_ids)"
   ]
  },
  {
   "cell_type": "code",
   "execution_count": 15,
   "id": "c3b195eb",
   "metadata": {},
   "outputs": [
    {
     "name": "stdout",
     "output_type": "stream",
     "text": [
      "['Q24036450', 'Q16743596', 'Q1226423', 'Q104846928', 'Q21078601', 'Q7171121', 'Q16760352', 'Q63927535', 'Q63927550', 'Q63927541', 'Q15869639', 'Q100235649', 'Q97277751', 'Q65320918', 'Q63929649', 'Q51545675', 'Q86712427', 'Q95715804', 'Q97463695', 'Q11710941', 'Q51607598', 'Q26856809']\n"
     ]
    }
   ],
   "source": [
    "# get non biota wikiRefs in linked pbdb, which are wikiRefs not in the tree from biota (there are 22)\n",
    "non_biota_wikiRef = []\n",
    "all_biota_wiki_set = set(all_biota_wiki)\n",
    "for i in all_wikiRef:\n",
    "    if i not in all_biota_wiki_set:\n",
    "        non_biota_wikiRef.append(i)\n",
    "print(non_biota_wikiRef)"
   ]
  },
  {
   "cell_type": "code",
   "execution_count": 34,
   "id": "4daf1f56",
   "metadata": {},
   "outputs": [],
   "source": [
    "# exclude pbdb records with non biota wikiRefs \n",
    "pbdb = pbdb[~pbdb[\"wikiRef\"].isin(non_biota_wikiRef)]"
   ]
  },
  {
   "cell_type": "code",
   "execution_count": 35,
   "id": "c90654a3",
   "metadata": {},
   "outputs": [],
   "source": [
    "parsed_pbdb = json.loads(pbdb.to_json(orient=\"records\"))"
   ]
  },
  {
   "cell_type": "code",
   "execution_count": 36,
   "id": "6b55a5a7",
   "metadata": {},
   "outputs": [],
   "source": [
    "with open(os.path.join(PBDBDIR, \"pbdb_for_db.json\"),\"w\") as f:\n",
    "    json.dump(parsed_pbdb,f)"
   ]
  },
  {
   "cell_type": "code",
   "execution_count": 37,
   "id": "b9e40556",
   "metadata": {},
   "outputs": [],
   "source": [
    "# split linked pbdb fossils into 10 files\n",
    "json_splitter(parsed_pbdb,10,PBDBDIR,\"pbdb_for_db\")"
   ]
  },
  {
   "cell_type": "code",
   "execution_count": 202,
   "id": "50079cbc",
   "metadata": {},
   "outputs": [],
   "source": [
    "with open(\"../../dataset/pbdb/pbdb_for_db.json\",\"rb\") as f:\n",
    "    pbdb = pd.DataFrame(json.load(f))"
   ]
  },
  {
   "cell_type": "code",
   "execution_count": 205,
   "id": "258f13cf",
   "metadata": {},
   "outputs": [],
   "source": [
    "tree_for_db_pd = pd.DataFrame(tree_for_db)"
   ]
  },
  {
   "cell_type": "code",
   "execution_count": 206,
   "id": "36f80fa3",
   "metadata": {},
   "outputs": [],
   "source": [
    "# cut down tree_for_bd_pd by only keeping the items that are present in the tree from all fossil records\n",
    "all_paths = tree_for_db_pd[tree_for_db_pd[\"id\"].isin(set(pbdb[\"wikiRef\"].unique()))][\"pathFromRootById\"].tolist()"
   ]
  },
  {
   "cell_type": "code",
   "execution_count": 207,
   "id": "450aa30d",
   "metadata": {},
   "outputs": [],
   "source": [
    "all_ids_fossil_tree = set()\n",
    "for path in all_paths:\n",
    "    path = path.split(\",\")[1:]\n",
    "    all_ids_fossil_tree.update(path)"
   ]
  },
  {
   "cell_type": "code",
   "execution_count": 217,
   "id": "7e049b6d",
   "metadata": {},
   "outputs": [],
   "source": [
    "tree_for_db_pd = tree_for_db_pd[tree_for_db_pd[\"id\"].isin(all_ids_fossil_tree)]"
   ]
  },
  {
   "cell_type": "code",
   "execution_count": 210,
   "id": "9ac2e82e",
   "metadata": {},
   "outputs": [],
   "source": [
    "# build dataframe for wikiRef id counts, min of minma, max of maxma\n",
    "# indices are wikiRefs \n",
    "wikiRef_count_and_time_pd = pd.DataFrame(pbdb.groupby([\"wikiRef\"])[\"id\"].count())\n",
    "wikiRef_count_and_time_pd.columns = [\"count\"]\n",
    "wikiRef_count_and_time_pd[\"minma\"] = pbdb.groupby([\"wikiRef\"])[\"minma\"].min().tolist()\n",
    "wikiRef_count_and_time_pd[\"maxma\"] = pbdb.groupby([\"wikiRef\"])[\"maxma\"].max().tolist()\n"
   ]
  },
  {
   "cell_type": "code",
   "execution_count": 234,
   "id": "14beb8d2",
   "metadata": {},
   "outputs": [],
   "source": [
    "# initialize count, maxma, minma to 0\n",
    "tree_for_db_pd[\"count\"],tree_for_db_pd[\"maxma\"], tree_for_db_pd[\"minma\"] = [0]*tree_for_db_pd.shape[0], [-1]*tree_for_db_pd.shape[0],[-1]*tree_for_db_pd.shape[0]"
   ]
  },
  {
   "cell_type": "code",
   "execution_count": 228,
   "id": "834b346f",
   "metadata": {},
   "outputs": [],
   "source": [
    "tree_for_db_pd = tree_for_db_pd.set_index(\"id\")"
   ]
  },
  {
   "cell_type": "code",
   "execution_count": 235,
   "id": "a1d34267",
   "metadata": {
    "scrolled": true
   },
   "outputs": [
    {
     "name": "stdout",
     "output_type": "stream",
     "text": [
      "1000\n",
      "2000\n",
      "3000\n",
      "4000\n",
      "5000\n",
      "6000\n",
      "7000\n",
      "8000\n",
      "9000\n",
      "10000\n",
      "11000\n",
      "12000\n",
      "13000\n",
      "14000\n",
      "15000\n",
      "16000\n",
      "17000\n",
      "18000\n",
      "19000\n",
      "20000\n",
      "21000\n",
      "22000\n",
      "23000\n",
      "24000\n",
      "25000\n",
      "26000\n",
      "27000\n",
      "28000\n",
      "29000\n",
      "30000\n",
      "31000\n",
      "32000\n",
      "33000\n",
      "34000\n",
      "35000\n",
      "36000\n",
      "37000\n",
      "38000\n",
      "39000\n",
      "40000\n",
      "41000\n",
      "42000\n",
      "43000\n",
      "44000\n",
      "45000\n",
      "46000\n",
      "47000\n",
      "48000\n",
      "49000\n",
      "50000\n",
      "51000\n",
      "52000\n",
      "53000\n",
      "54000\n",
      "55000\n",
      "56000\n"
     ]
    }
   ],
   "source": [
    "i = 0\n",
    "for wikiRef in wikiRef_count_and_time_pd.index:\n",
    "    i += 1\n",
    "    if i % 1000 == 0:\n",
    "        print(i)\n",
    "    count, maxma, minma = wikiRef_count_and_time_pd.loc[wikiRef, \"count\"], \\\n",
    "    wikiRef_count_and_time_pd.loc[wikiRef, \"maxma\"], \\\n",
    "    wikiRef_count_and_time_pd.loc[wikiRef, \"minma\"]\n",
    "    \n",
    "    tree_for_db_pd.loc[wikiRef, \"count\"] = count\n",
    "    tree_for_db_pd.loc[wikiRef, \"maxma\"] = maxma\n",
    "    tree_for_db_pd.loc[wikiRef, \"minma\"] = minma\n",
    "\n",
    "    ids_from_root = tree_for_db_pd.loc[wikiRef].pathFromRootById.split(\",\")[1:]\n",
    "\n",
    "    for upstream_id in ids_from_root[:-1]:\n",
    "        tree_for_db_pd.loc[upstream_id, \"count\"] += count\n",
    "        if float(tree_for_db_pd.loc[upstream_id, \"maxma\"]) < maxma:\n",
    "            tree_for_db_pd.loc[upstream_id, \"maxma\"] = maxma\n",
    "        if float(tree_for_db_pd.loc[upstream_id, \"minma\"]) == -1 or \\\n",
    "            float(tree_for_db_pd.loc[upstream_id, \"minma\"]) > minma:\n",
    "            tree_for_db_pd.loc[upstream_id, \"minma\"] = minma\n"
   ]
  },
  {
   "cell_type": "code",
   "execution_count": 242,
   "id": "c96dc363",
   "metadata": {},
   "outputs": [],
   "source": [
    "tree_for_db_pd.reset_index(level=0,inplace=True)"
   ]
  },
  {
   "cell_type": "code",
   "execution_count": 244,
   "id": "f11a6f80",
   "metadata": {},
   "outputs": [],
   "source": [
    "parsed_tree_for_db = json.loads(tree_for_db_pd.to_json(orient=\"records\"))"
   ]
  },
  {
   "cell_type": "code",
   "execution_count": 245,
   "id": "ab4b7eff",
   "metadata": {},
   "outputs": [],
   "source": [
    "# save the flat tree for db into file\n",
    "with open(os.path.join(WIKIDIR, \"fossil_related_flat_tree_for_db.json\"),\"w\") as f:\n",
    "    json.dump(parsed_tree_for_db,f)"
   ]
  },
  {
   "cell_type": "code",
   "execution_count": 246,
   "id": "489b2a02",
   "metadata": {},
   "outputs": [
    {
     "data": {
      "text/html": [
       "<div>\n",
       "<style scoped>\n",
       "    .dataframe tbody tr th:only-of-type {\n",
       "        vertical-align: middle;\n",
       "    }\n",
       "\n",
       "    .dataframe tbody tr th {\n",
       "        vertical-align: top;\n",
       "    }\n",
       "\n",
       "    .dataframe thead th {\n",
       "        text-align: right;\n",
       "    }\n",
       "</style>\n",
       "<table border=\"1\" class=\"dataframe\">\n",
       "  <thead>\n",
       "    <tr style=\"text-align: right;\">\n",
       "      <th></th>\n",
       "      <th>id</th>\n",
       "      <th>name</th>\n",
       "      <th>rank</th>\n",
       "      <th>pathFromRootById</th>\n",
       "      <th>pathFromRootByName</th>\n",
       "      <th>pathFromRootByRank</th>\n",
       "      <th>children</th>\n",
       "      <th>count</th>\n",
       "      <th>maxma</th>\n",
       "      <th>minma</th>\n",
       "    </tr>\n",
       "  </thead>\n",
       "  <tbody>\n",
       "    <tr>\n",
       "      <th>0</th>\n",
       "      <td>Q2382443</td>\n",
       "      <td>Biota</td>\n",
       "      <td>superdomain</td>\n",
       "      <td>,Q2382443</td>\n",
       "      <td>,Biota</td>\n",
       "      <td>,superdomain</td>\n",
       "      <td>[Q1950208, Q28920818, Q808, Q20072875, Q19081,...</td>\n",
       "      <td>1286430</td>\n",
       "      <td>1000.0</td>\n",
       "      <td>0.0</td>\n",
       "    </tr>\n",
       "    <tr>\n",
       "      <th>1</th>\n",
       "      <td>Q19081</td>\n",
       "      <td>Prokaryota</td>\n",
       "      <td>domain</td>\n",
       "      <td>,Q2382443,Q19081</td>\n",
       "      <td>,Biota,Prokaryota</td>\n",
       "      <td>,superdomain,domain</td>\n",
       "      <td>[Q60972204, Q10876, Q13014476, Q10872]</td>\n",
       "      <td>101</td>\n",
       "      <td>635.0</td>\n",
       "      <td>28.1</td>\n",
       "    </tr>\n",
       "    <tr>\n",
       "      <th>2</th>\n",
       "      <td>Q10876</td>\n",
       "      <td>Bacteria</td>\n",
       "      <td>kingdom</td>\n",
       "      <td>,Q2382443,Q19081,Q10876</td>\n",
       "      <td>,Biota,Prokaryota,Bacteria</td>\n",
       "      <td>,superdomain,domain,kingdom</td>\n",
       "      <td>[Q24975421, Q26197526, Q26218602, Q3337759, Q6...</td>\n",
       "      <td>101</td>\n",
       "      <td>635.0</td>\n",
       "      <td>28.1</td>\n",
       "    </tr>\n",
       "    <tr>\n",
       "      <th>3</th>\n",
       "      <td>Q3337759</td>\n",
       "      <td>Negibacteria</td>\n",
       "      <td>subkingdom</td>\n",
       "      <td>,Q2382443,Q19081,Q10876,Q3337759</td>\n",
       "      <td>,Biota,Prokaryota,Bacteria,Negibacteria</td>\n",
       "      <td>,superdomain,domain,kingdom,subkingdom</td>\n",
       "      <td>[Q12963338, Q13012345, Q597831, Q1200941, Q536...</td>\n",
       "      <td>94</td>\n",
       "      <td>635.0</td>\n",
       "      <td>28.1</td>\n",
       "    </tr>\n",
       "    <tr>\n",
       "      <th>4</th>\n",
       "      <td>Q93315</td>\n",
       "      <td>Cyanobacteria</td>\n",
       "      <td>phylum</td>\n",
       "      <td>,Q2382443,Q19081,Q10876,Q3337759,Q93315</td>\n",
       "      <td>,Biota,Prokaryota,Bacteria,Negibacteria,Cyanob...</td>\n",
       "      <td>,superdomain,domain,kingdom,subkingdom,phylum</td>\n",
       "      <td>[Q16985953, Q21445955, Q3492534, Q1088359, Q34...</td>\n",
       "      <td>35</td>\n",
       "      <td>635.0</td>\n",
       "      <td>201.3</td>\n",
       "    </tr>\n",
       "    <tr>\n",
       "      <th>...</th>\n",
       "      <td>...</td>\n",
       "      <td>...</td>\n",
       "      <td>...</td>\n",
       "      <td>...</td>\n",
       "      <td>...</td>\n",
       "      <td>...</td>\n",
       "      <td>...</td>\n",
       "      <td>...</td>\n",
       "      <td>...</td>\n",
       "      <td>...</td>\n",
       "    </tr>\n",
       "    <tr>\n",
       "      <th>71318</th>\n",
       "      <td>Q3702219</td>\n",
       "      <td>Anabarites</td>\n",
       "      <td>genus</td>\n",
       "      <td>,Q2382443,Q19088,Q964455,Q129021,Q1205110,Q113...</td>\n",
       "      <td>,Biota,Eukaryota,Unikonta,Opisthokonta,Holozoa...</td>\n",
       "      <td>,superdomain,domain,subdomain,,,,,kingdom,fami...</td>\n",
       "      <td>[Q20716994, Q5147299, Q5155336, Q5146116]</td>\n",
       "      <td>190</td>\n",
       "      <td>635.0</td>\n",
       "      <td>513.0</td>\n",
       "    </tr>\n",
       "    <tr>\n",
       "      <th>71319</th>\n",
       "      <td>Q20716994</td>\n",
       "      <td>Anabarites trisulcatus</td>\n",
       "      <td>species</td>\n",
       "      <td>,Q2382443,Q19088,Q964455,Q129021,Q1205110,Q113...</td>\n",
       "      <td>,Biota,Eukaryota,Unikonta,Opisthokonta,Holozoa...</td>\n",
       "      <td>,superdomain,domain,subdomain,,,,,kingdom,fami...</td>\n",
       "      <td>[]</td>\n",
       "      <td>94</td>\n",
       "      <td>541.0</td>\n",
       "      <td>485.4</td>\n",
       "    </tr>\n",
       "    <tr>\n",
       "      <th>71320</th>\n",
       "      <td>Q5147299</td>\n",
       "      <td>Anabarites gracilis</td>\n",
       "      <td>species</td>\n",
       "      <td>,Q2382443,Q19088,Q964455,Q129021,Q1205110,Q113...</td>\n",
       "      <td>,Biota,Eukaryota,Unikonta,Opisthokonta,Holozoa...</td>\n",
       "      <td>,superdomain,domain,subdomain,,,,,kingdom,fami...</td>\n",
       "      <td>[]</td>\n",
       "      <td>2</td>\n",
       "      <td>541.0</td>\n",
       "      <td>516.0</td>\n",
       "    </tr>\n",
       "    <tr>\n",
       "      <th>71321</th>\n",
       "      <td>Q5155336</td>\n",
       "      <td>Anabarites sexalox</td>\n",
       "      <td>species</td>\n",
       "      <td>,Q2382443,Q19088,Q964455,Q129021,Q1205110,Q113...</td>\n",
       "      <td>,Biota,Eukaryota,Unikonta,Opisthokonta,Holozoa...</td>\n",
       "      <td>,superdomain,domain,subdomain,,,,,kingdom,fami...</td>\n",
       "      <td>[]</td>\n",
       "      <td>16</td>\n",
       "      <td>520.0</td>\n",
       "      <td>513.0</td>\n",
       "    </tr>\n",
       "    <tr>\n",
       "      <th>71322</th>\n",
       "      <td>Q5146116</td>\n",
       "      <td>Anabarites trymatus</td>\n",
       "      <td>species</td>\n",
       "      <td>,Q2382443,Q19088,Q964455,Q129021,Q1205110,Q113...</td>\n",
       "      <td>,Biota,Eukaryota,Unikonta,Opisthokonta,Holozoa...</td>\n",
       "      <td>,superdomain,domain,subdomain,,,,,kingdom,fami...</td>\n",
       "      <td>[]</td>\n",
       "      <td>11</td>\n",
       "      <td>520.0</td>\n",
       "      <td>513.0</td>\n",
       "    </tr>\n",
       "  </tbody>\n",
       "</table>\n",
       "<p>71323 rows × 10 columns</p>\n",
       "</div>"
      ],
      "text/plain": [
       "              id                    name         rank  \\\n",
       "0       Q2382443                   Biota  superdomain   \n",
       "1         Q19081              Prokaryota       domain   \n",
       "2         Q10876                Bacteria      kingdom   \n",
       "3       Q3337759            Negibacteria   subkingdom   \n",
       "4         Q93315           Cyanobacteria       phylum   \n",
       "...          ...                     ...          ...   \n",
       "71318   Q3702219              Anabarites        genus   \n",
       "71319  Q20716994  Anabarites trisulcatus      species   \n",
       "71320   Q5147299     Anabarites gracilis      species   \n",
       "71321   Q5155336      Anabarites sexalox      species   \n",
       "71322   Q5146116     Anabarites trymatus      species   \n",
       "\n",
       "                                        pathFromRootById  \\\n",
       "0                                              ,Q2382443   \n",
       "1                                       ,Q2382443,Q19081   \n",
       "2                                ,Q2382443,Q19081,Q10876   \n",
       "3                       ,Q2382443,Q19081,Q10876,Q3337759   \n",
       "4                ,Q2382443,Q19081,Q10876,Q3337759,Q93315   \n",
       "...                                                  ...   \n",
       "71318  ,Q2382443,Q19088,Q964455,Q129021,Q1205110,Q113...   \n",
       "71319  ,Q2382443,Q19088,Q964455,Q129021,Q1205110,Q113...   \n",
       "71320  ,Q2382443,Q19088,Q964455,Q129021,Q1205110,Q113...   \n",
       "71321  ,Q2382443,Q19088,Q964455,Q129021,Q1205110,Q113...   \n",
       "71322  ,Q2382443,Q19088,Q964455,Q129021,Q1205110,Q113...   \n",
       "\n",
       "                                      pathFromRootByName  \\\n",
       "0                                                 ,Biota   \n",
       "1                                      ,Biota,Prokaryota   \n",
       "2                             ,Biota,Prokaryota,Bacteria   \n",
       "3                ,Biota,Prokaryota,Bacteria,Negibacteria   \n",
       "4      ,Biota,Prokaryota,Bacteria,Negibacteria,Cyanob...   \n",
       "...                                                  ...   \n",
       "71318  ,Biota,Eukaryota,Unikonta,Opisthokonta,Holozoa...   \n",
       "71319  ,Biota,Eukaryota,Unikonta,Opisthokonta,Holozoa...   \n",
       "71320  ,Biota,Eukaryota,Unikonta,Opisthokonta,Holozoa...   \n",
       "71321  ,Biota,Eukaryota,Unikonta,Opisthokonta,Holozoa...   \n",
       "71322  ,Biota,Eukaryota,Unikonta,Opisthokonta,Holozoa...   \n",
       "\n",
       "                                      pathFromRootByRank  \\\n",
       "0                                           ,superdomain   \n",
       "1                                    ,superdomain,domain   \n",
       "2                            ,superdomain,domain,kingdom   \n",
       "3                 ,superdomain,domain,kingdom,subkingdom   \n",
       "4          ,superdomain,domain,kingdom,subkingdom,phylum   \n",
       "...                                                  ...   \n",
       "71318  ,superdomain,domain,subdomain,,,,,kingdom,fami...   \n",
       "71319  ,superdomain,domain,subdomain,,,,,kingdom,fami...   \n",
       "71320  ,superdomain,domain,subdomain,,,,,kingdom,fami...   \n",
       "71321  ,superdomain,domain,subdomain,,,,,kingdom,fami...   \n",
       "71322  ,superdomain,domain,subdomain,,,,,kingdom,fami...   \n",
       "\n",
       "                                                children    count   maxma  \\\n",
       "0      [Q1950208, Q28920818, Q808, Q20072875, Q19081,...  1286430  1000.0   \n",
       "1                 [Q60972204, Q10876, Q13014476, Q10872]      101   635.0   \n",
       "2      [Q24975421, Q26197526, Q26218602, Q3337759, Q6...      101   635.0   \n",
       "3      [Q12963338, Q13012345, Q597831, Q1200941, Q536...       94   635.0   \n",
       "4      [Q16985953, Q21445955, Q3492534, Q1088359, Q34...       35   635.0   \n",
       "...                                                  ...      ...     ...   \n",
       "71318          [Q20716994, Q5147299, Q5155336, Q5146116]      190   635.0   \n",
       "71319                                                 []       94   541.0   \n",
       "71320                                                 []        2   541.0   \n",
       "71321                                                 []       16   520.0   \n",
       "71322                                                 []       11   520.0   \n",
       "\n",
       "       minma  \n",
       "0        0.0  \n",
       "1       28.1  \n",
       "2       28.1  \n",
       "3       28.1  \n",
       "4      201.3  \n",
       "...      ...  \n",
       "71318  513.0  \n",
       "71319  485.4  \n",
       "71320  516.0  \n",
       "71321  513.0  \n",
       "71322  513.0  \n",
       "\n",
       "[71323 rows x 10 columns]"
      ]
     },
     "execution_count": 246,
     "metadata": {},
     "output_type": "execute_result"
    }
   ],
   "source": [
    "tree_for_db_pd"
   ]
  },
  {
   "cell_type": "code",
   "execution_count": 253,
   "id": "2974c0f0",
   "metadata": {},
   "outputs": [
    {
     "data": {
      "text/html": [
       "<div>\n",
       "<style scoped>\n",
       "    .dataframe tbody tr th:only-of-type {\n",
       "        vertical-align: middle;\n",
       "    }\n",
       "\n",
       "    .dataframe tbody tr th {\n",
       "        vertical-align: top;\n",
       "    }\n",
       "\n",
       "    .dataframe thead th {\n",
       "        text-align: right;\n",
       "    }\n",
       "</style>\n",
       "<table border=\"1\" class=\"dataframe\">\n",
       "  <thead>\n",
       "    <tr style=\"text-align: right;\">\n",
       "      <th></th>\n",
       "      <th>id</th>\n",
       "      <th>name</th>\n",
       "      <th>rank</th>\n",
       "      <th>pathFromRootById</th>\n",
       "      <th>pathFromRootByName</th>\n",
       "      <th>pathFromRootByRank</th>\n",
       "      <th>children</th>\n",
       "      <th>count</th>\n",
       "      <th>maxma</th>\n",
       "      <th>minma</th>\n",
       "    </tr>\n",
       "  </thead>\n",
       "  <tbody>\n",
       "  </tbody>\n",
       "</table>\n",
       "</div>"
      ],
      "text/plain": [
       "Empty DataFrame\n",
       "Columns: [id, name, rank, pathFromRootById, pathFromRootByName, pathFromRootByRank, children, count, maxma, minma]\n",
       "Index: []"
      ]
     },
     "execution_count": 253,
     "metadata": {},
     "output_type": "execute_result"
    }
   ],
   "source": [
    "tree_for_db_pd[tree_for_db_pd[\"minma\"]<0]"
   ]
  },
  {
   "cell_type": "code",
   "execution_count": 18,
   "id": "03591d42",
   "metadata": {},
   "outputs": [],
   "source": [
    "# split flat tree \n",
    "json_splitter(parsed_tree_for_db,50,WIKIDIR,\"flat_tree_for_db\")"
   ]
  }
 ],
 "metadata": {
  "kernelspec": {
   "display_name": "Python 3",
   "language": "python",
   "name": "python3"
  },
  "language_info": {
   "codemirror_mode": {
    "name": "ipython",
    "version": 3
   },
   "file_extension": ".py",
   "mimetype": "text/x-python",
   "name": "python",
   "nbconvert_exporter": "python",
   "pygments_lexer": "ipython3",
   "version": "3.8.5"
  }
 },
 "nbformat": 4,
 "nbformat_minor": 5
}
