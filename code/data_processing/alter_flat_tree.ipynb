{
 "cells": [
  {
   "cell_type": "code",
   "execution_count": 1,
   "id": "e81592a7",
   "metadata": {},
   "outputs": [],
   "source": [
    "import pandas as pd\n",
    "import os\n",
    "import json\n",
    "import requests\n",
    "import pickle as pkl\n",
    "import matplotlib.pyplot as plt\n",
    "import numpy as np\n",
    "\n",
    "DATADIR = \"../../dataset\"\n",
    "WIKIDIR = DATADIR + \"/wikidata/processed\"\n",
    "PBDBDIR = DATADIR + \"/pbdb\""
   ]
  },
  {
   "cell_type": "code",
   "execution_count": 14,
   "id": "9fd38aae",
   "metadata": {},
   "outputs": [],
   "source": [
    "def get_flat_tree_from_tree(tree):\n",
    "    '''\n",
    "    input a nested tree and output all full and incomplete \n",
    "    branches of the tree.\n",
    "    return: a list where each element is a dictionary, where\n",
    "    there is name, rank, id of each node/leave and path to root.\n",
    "    '''\n",
    "    def visit_nodes (root_child, path_from_root_id, path_from_root_name):\n",
    "        '''\n",
    "        input a root (root_child) and recursively append information\n",
    "        of each of its downstream nodes and leaves to the list, branches.\n",
    "        '''\n",
    "        path_from_root_id += \",\" + root_child[\"id\"]\n",
    "        path_from_root_name += \",\" + root_child[\"name\"]\n",
    "        branches.append({\"name\": root_child[\"name\"], \"rank\": root_child[\"rank\"], \"id\": root_child[\"id\"], \"pathFromRootById\": path_from_root_id, \"pathFromRootByName\": path_from_root_name})\n",
    "        if \"children\" in root_child.keys():\n",
    "            for child in root_child[\"children\"]:\n",
    "                visit_nodes(child, path_from_root_id, path_from_root_name)\n",
    "        \n",
    "    branches = []\n",
    "    visit_nodes(tree, \"\",\"\")\n",
    "    return branches\n",
    "\n",
    "def json_splitter(document, splits, DIR, folder_name):\n",
    "    '''\n",
    "    take a long json file (dictionary) and split it into \"splits\" parts\n",
    "    and save into the folder under \"folder_name\"\n",
    "    '''\n",
    "    idx = 0\n",
    "    for i in range(0,len(document),len(document)//(splits - 1)):\n",
    "        idx += 1\n",
    "        if idx < splits:\n",
    "            temp = document[i:i+len(document)//(splits - 1)]\n",
    "        else:\n",
    "            temp = document[i:]\n",
    "        with open(os.path.join(DIR, folder_name, folder_name + \"_\" + str(idx) + \".json\"),\"w\") as f:\n",
    "            json.dump(temp,f)\n",
    "    "
   ]
  },
  {
   "cell_type": "code",
   "execution_count": 15,
   "id": "fb06f6bc",
   "metadata": {},
   "outputs": [
    {
     "data": {
      "text/plain": [
       "[{'name': 'Devia',\n",
       "  'rank': '',\n",
       "  'id': 'Q27973466',\n",
       "  'pathFromRootById': ',Q27973466',\n",
       "  'pathFromRootByName': ',Devia'},\n",
       " {'name': 'Devia prospera',\n",
       "  'rank': 'Q7432',\n",
       "  'id': 'Q11965580',\n",
       "  'pathFromRootById': ',Q27973466,Q11965580',\n",
       "  'pathFromRootByName': ',Devia,Devia prospera'},\n",
       " {'name': 'Devia congruens',\n",
       "  'rank': 'Q7432',\n",
       "  'id': 'Q14882376',\n",
       "  'pathFromRootById': ',Q27973466,Q14882376',\n",
       "  'pathFromRootByName': ',Devia,Devia congruens'}]"
      ]
     },
     "execution_count": 15,
     "metadata": {},
     "output_type": "execute_result"
    }
   ],
   "source": [
    "with open(os.path.join(WIKIDIR, \"dangling_trees\",\"Q27973466.json\"),\"rb\") as f:\n",
    "    test_tree = json.load(f)\n",
    "get_flat_tree_from_tree(test_tree)"
   ]
  },
  {
   "cell_type": "code",
   "execution_count": 7,
   "id": "a5033f90",
   "metadata": {},
   "outputs": [],
   "source": [
    "# load flat tree\n",
    "with open(os.path.join(WIKIDIR, \"tree_flat.pkl\"),\"rb\") as f:\n",
    "    tree_flat = pkl.load(f)"
   ]
  },
  {
   "cell_type": "code",
   "execution_count": 3,
   "id": "7e3c1b7f",
   "metadata": {},
   "outputs": [],
   "source": [
    "# load tree from biota\n",
    "with open(os.path.join(WIKIDIR, \"tree.json\"),\"rb\") as f:\n",
    "    tree_from_biota = json.load(f)"
   ]
  },
  {
   "cell_type": "code",
   "execution_count": 16,
   "id": "4d6b5d40",
   "metadata": {},
   "outputs": [],
   "source": [
    "# compute flat tree for db\n",
    "tree_for_db = get_flat_tree_from_tree(tree_from_biota)"
   ]
  },
  {
   "cell_type": "code",
   "execution_count": 18,
   "id": "03591d42",
   "metadata": {},
   "outputs": [],
   "source": [
    "# split flat tree \n",
    "json_splitter(tree_for_db,50,WIKIDIR,\"flat_tree_for_db\")"
   ]
  },
  {
   "cell_type": "code",
   "execution_count": 17,
   "id": "ab4b7eff",
   "metadata": {},
   "outputs": [],
   "source": [
    "# save the flat tree for db into file\n",
    "with open(os.path.join(WIKIDIR, \"flat_tree_for_db.json\"),\"w\") as f:\n",
    "    json.dump(tree_for_db,f)"
   ]
  },
  {
   "cell_type": "code",
   "execution_count": 56,
   "id": "c39691a8",
   "metadata": {},
   "outputs": [],
   "source": [
    "# load linked pbdb fossils \n",
    "with open(os.path.join(PBDBDIR, \"pbdb.json\"),\"rb\") as f:\n",
    "    pbdb = json.load(f)"
   ]
  },
  {
   "cell_type": "code",
   "execution_count": 67,
   "id": "b9e40556",
   "metadata": {},
   "outputs": [],
   "source": [
    "# split linked pbdb fossils into 10 files\n",
    "json_splitter(pbdb,10,PBDBDIR,\"pbdb_for_db\")"
   ]
  },
  {
   "cell_type": "code",
   "execution_count": 12,
   "id": "e4659fca",
   "metadata": {},
   "outputs": [],
   "source": [
    "data = pd.read_csv(os.path.join(WIKIDIR, \"data.csv\"), index_col = \"id\")\n",
    "data[\"taxon_name\"].fillna(data[\"species_name_value\"],inplace=True)"
   ]
  }
 ],
 "metadata": {
  "kernelspec": {
   "display_name": "Python 3",
   "language": "python",
   "name": "python3"
  },
  "language_info": {
   "codemirror_mode": {
    "name": "ipython",
    "version": 3
   },
   "file_extension": ".py",
   "mimetype": "text/x-python",
   "name": "python",
   "nbconvert_exporter": "python",
   "pygments_lexer": "ipython3",
   "version": "3.8.5"
  }
 },
 "nbformat": 4,
 "nbformat_minor": 5
}
