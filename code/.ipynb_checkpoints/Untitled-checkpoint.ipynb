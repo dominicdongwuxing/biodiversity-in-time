{
 "cells": [
  {
   "cell_type": "code",
   "execution_count": 49,
   "id": "03ee52ce",
   "metadata": {},
   "outputs": [],
   "source": [
    "hay = [\"a\",\"b\",\"c\",\"d\",\"e\"]\n",
    "needles = [\"b\",\"r\",\"d\"]\n",
    "res = {}\n",
    "'''\n",
    "for i, h in enumerate(hay):\n",
    "    if needles_len == \n",
    "    n = needles[0]\n",
    "    if needles[0] == h:\n",
    "        res[n] = i\n",
    "        needles.pop(0)\n",
    "        needles_len -= 1\n",
    "'''\n",
    "\n",
    "current_idx = 0\n",
    "while len(needles):\n",
    "    needle = needles[0]\n",
    "    # if the needle has not been found after looping the haystack, loop back to the previous idx \n",
    "    if needle != hay[-1] and current_idx == len(hay)-1:\n",
    "        current_idx = previous_idx \n",
    "        res[needle] = \"not found\"\n",
    "        needles.pop(0)\n",
    "           \n",
    "    elif needle == hay[current_idx]:\n",
    "        res[needle] = current_idx\n",
    "        needles.pop(0)\n",
    "        current_idx += 1\n",
    "        previous_idx = current_idx\n",
    "        \n",
    "    else:\n",
    "        current_idx += 1\n",
    "\n",
    "    "
   ]
  },
  {
   "cell_type": "code",
   "execution_count": 8,
   "id": "1f95f40f",
   "metadata": {},
   "outputs": [],
   "source": [
    "a_file = open(\"parent_id_to_name_dict_fixed.pkl\", \"rb\")\n",
    "fixed_dict = pickle.load(a_file)\n",
    "\n",
    "a_file.close()"
   ]
  },
  {
   "cell_type": "code",
   "execution_count": 50,
   "id": "acc5a90c",
   "metadata": {},
   "outputs": [
    {
     "data": {
      "text/plain": [
       "{'b': 1, 'r': 'not found', 'd': 3}"
      ]
     },
     "execution_count": 50,
     "metadata": {},
     "output_type": "execute_result"
    }
   ],
   "source": [
    "res"
   ]
  },
  {
   "cell_type": "code",
   "execution_count": 48,
   "id": "d5f5183e",
   "metadata": {},
   "outputs": [
    {
     "data": {
      "text/plain": [
       "[]"
      ]
     },
     "execution_count": 48,
     "metadata": {},
     "output_type": "execute_result"
    }
   ],
   "source": [
    "needles"
   ]
  }
 ],
 "metadata": {
  "kernelspec": {
   "display_name": "Python 3",
   "language": "python",
   "name": "python3"
  },
  "language_info": {
   "codemirror_mode": {
    "name": "ipython",
    "version": 3
   },
   "file_extension": ".py",
   "mimetype": "text/x-python",
   "name": "python",
   "nbconvert_exporter": "python",
   "pygments_lexer": "ipython3",
   "version": "3.8.5"
  }
 },
 "nbformat": 4,
 "nbformat_minor": 5
}
