{
 "cells": [
  {
   "cell_type": "code",
   "execution_count": 2,
   "id": "68325a70",
   "metadata": {},
   "outputs": [],
   "source": [
    "from build_tree_utils import *\n",
    "# load pre-computed files\n",
    "PROCESSED_WIKIDIR = \"../dataset/wikidata/processed\"\n",
    "data = pd.read_csv(os.path.join(PROCESSED_WIKIDIR, \"full_data.csv\"), index_col=\"id\")"
   ]
  },
  {
   "cell_type": "code",
   "execution_count": 2,
   "id": "0b439d29",
   "metadata": {},
   "outputs": [],
   "source": [
    "# combine all parsed JSON files into one file (maybe this work has already been done and saved as wikidata_records.csv)\n",
    "data = pd.DataFrame()\n",
    "for file in os.listdir(PARSED_WIKIDIR):\n",
    "    temp_data = pd.read_json(os.path.join(PARSED_WIKIDIR,file))\n",
    "    data = pd.concat([data,temp_data],ignore_index=True)\n",
    "\n",
    "data = trim_data(data)\n",
    "data.to_csv(PROCESSED_WIKIDIR + \"/data.csv\")"
   ]
  },
  {
   "cell_type": "code",
   "execution_count": null,
   "id": "bf10be33",
   "metadata": {},
   "outputs": [],
   "source": [
    "old_data_size = data.shape[0]\n",
    "data = re_query_data(data)\n",
    "while data.shape[0] != old_data_size:\n",
    "    old_data_size = data.shape[0]\n",
    "    data = re_query_data(data)"
   ]
  },
  {
   "cell_type": "code",
   "execution_count": 43,
   "id": "63e6e459",
   "metadata": {},
   "outputs": [],
   "source": [
    "data.to_csv(PROCESSED_WIKIDIR + \"/full_data.csv\")"
   ]
  },
  {
   "cell_type": "code",
   "execution_count": 3,
   "id": "18ff3519",
   "metadata": {},
   "outputs": [],
   "source": [
    "tree = build_tree(data)\n",
    "\n",
    "tree_file = open(os.path.join(PROCESSED_WIKIDIR,\"tree_flat.pkl\"), \"wb\")\n",
    "pickle.dump(tree, tree_file)\n",
    "tree_file.close()"
   ]
  },
  {
   "cell_type": "code",
   "execution_count": 65,
   "id": "4eef0069",
   "metadata": {},
   "outputs": [],
   "source": [
    "tree_from_biota = build_tree_from_root(\"Q2382443\", tree, data)"
   ]
  },
  {
   "cell_type": "code",
   "execution_count": 67,
   "id": "c127967c",
   "metadata": {},
   "outputs": [],
   "source": [
    "with open(os.path.join(PROCESSED_WIKIDIR, \"tree.json\"), 'w') as fp:\n",
    "    json.dump(tree_from_biota, fp)"
   ]
  },
  {
   "cell_type": "code",
   "execution_count": 4,
   "id": "406b2ff6",
   "metadata": {},
   "outputs": [],
   "source": [
    "missing_parents = get_missing_parents(data)"
   ]
  },
  {
   "cell_type": "code",
   "execution_count": 5,
   "id": "be7f792b",
   "metadata": {},
   "outputs": [
    {
     "data": {
      "text/plain": [
       "['Q102043669']"
      ]
     },
     "execution_count": 5,
     "metadata": {},
     "output_type": "execute_result"
    }
   ],
   "source": [
    "missing_parents"
   ]
  }
 ],
 "metadata": {
  "kernelspec": {
   "display_name": "Python 3",
   "language": "python",
   "name": "python3"
  },
  "language_info": {
   "codemirror_mode": {
    "name": "ipython",
    "version": 3
   },
   "file_extension": ".py",
   "mimetype": "text/x-python",
   "name": "python",
   "nbconvert_exporter": "python",
   "pygments_lexer": "ipython3",
   "version": "3.8.5"
  }
 },
 "nbformat": 4,
 "nbformat_minor": 5
}
